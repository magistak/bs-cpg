{
 "cells": [
  {
   "cell_type": "code",
   "execution_count": 1,
   "id": "5b31d562",
   "metadata": {},
   "outputs": [],
   "source": [
    "import pandas as pd"
   ]
  },
  {
   "cell_type": "code",
   "execution_count": 11,
   "id": "1094fac5",
   "metadata": {},
   "outputs": [
    {
     "data": {
      "application/vnd.microsoft.datawrangler.viewer.v0+json": {
       "columns": [
        {
         "name": "index",
         "rawType": "int64",
         "type": "integer"
        },
        {
         "name": "chrom",
         "rawType": "object",
         "type": "string"
        },
        {
         "name": "end",
         "rawType": "int32",
         "type": "integer"
        }
       ],
       "ref": "fb86c1b1-9115-4dab-9e59-8ad267dacc70",
       "rows": [
        [
         "0",
         "chr1",
         "10609"
        ],
        [
         "1",
         "chr1",
         "10617"
        ],
        [
         "2",
         "chr1",
         "10620"
        ],
        [
         "3",
         "chr1",
         "10631"
        ],
        [
         "4",
         "chr1",
         "10867"
        ],
        [
         "5",
         "chr1",
         "10885"
        ],
        [
         "6",
         "chr1",
         "10887"
        ],
        [
         "7",
         "chr1",
         "10903"
        ],
        [
         "8",
         "chr1",
         "10908"
        ],
        [
         "9",
         "chr1",
         "10914"
        ],
        [
         "10",
         "chr1",
         "10924"
        ],
        [
         "11",
         "chr1",
         "10934"
        ],
        [
         "12",
         "chr1",
         "10937"
        ],
        [
         "13",
         "chr1",
         "10943"
        ],
        [
         "14",
         "chr1",
         "10961"
        ],
        [
         "15",
         "chr1",
         "10963"
        ],
        [
         "16",
         "chr1",
         "10979"
        ],
        [
         "17",
         "chr1",
         "10984"
        ],
        [
         "18",
         "chr1",
         "10990"
        ],
        [
         "19",
         "chr1",
         "10998"
        ],
        [
         "20",
         "chr1",
         "11008"
        ],
        [
         "21",
         "chr1",
         "11012"
        ],
        [
         "22",
         "chr1",
         "11027"
        ],
        [
         "23",
         "chr1",
         "11300"
        ],
        [
         "24",
         "chr1",
         "11343"
        ],
        [
         "25",
         "chr1",
         "11346"
        ],
        [
         "26",
         "chr1",
         "11404"
        ],
        [
         "27",
         "chr1",
         "11879"
        ],
        [
         "28",
         "chr1",
         "12355"
        ],
        [
         "29",
         "chr1",
         "12426"
        ],
        [
         "30",
         "chr1",
         "12506"
        ],
        [
         "31",
         "chr1",
         "12521"
        ],
        [
         "32",
         "chr1",
         "12558"
        ],
        [
         "33",
         "chr1",
         "12586"
        ],
        [
         "34",
         "chr1",
         "12672"
        ],
        [
         "35",
         "chr1",
         "12675"
        ],
        [
         "36",
         "chr1",
         "12679"
        ],
        [
         "37",
         "chr1",
         "12754"
        ],
        [
         "38",
         "chr1",
         "12757"
        ],
        [
         "39",
         "chr1",
         "12773"
        ],
        [
         "40",
         "chr1",
         "14888"
        ],
        [
         "41",
         "chr1",
         "14947"
        ],
        [
         "42",
         "chr1",
         "14954"
        ],
        [
         "43",
         "chr1",
         "14975"
        ],
        [
         "44",
         "chr1",
         "15004"
        ],
        [
         "45",
         "chr1",
         "15028"
        ],
        [
         "46",
         "chr1",
         "15045"
        ],
        [
         "47",
         "chr1",
         "15085"
        ],
        [
         "48",
         "chr1",
         "15089"
        ],
        [
         "49",
         "chr1",
         "15171"
        ]
       ],
       "shape": {
        "columns": 2,
        "rows": 4374959
       }
      },
      "text/html": [
       "<div>\n",
       "<style scoped>\n",
       "    .dataframe tbody tr th:only-of-type {\n",
       "        vertical-align: middle;\n",
       "    }\n",
       "\n",
       "    .dataframe tbody tr th {\n",
       "        vertical-align: top;\n",
       "    }\n",
       "\n",
       "    .dataframe thead th {\n",
       "        text-align: right;\n",
       "    }\n",
       "</style>\n",
       "<table border=\"1\" class=\"dataframe\">\n",
       "  <thead>\n",
       "    <tr style=\"text-align: right;\">\n",
       "      <th></th>\n",
       "      <th>chrom</th>\n",
       "      <th>end</th>\n",
       "    </tr>\n",
       "  </thead>\n",
       "  <tbody>\n",
       "    <tr>\n",
       "      <th>0</th>\n",
       "      <td>chr1</td>\n",
       "      <td>10609</td>\n",
       "    </tr>\n",
       "    <tr>\n",
       "      <th>1</th>\n",
       "      <td>chr1</td>\n",
       "      <td>10617</td>\n",
       "    </tr>\n",
       "    <tr>\n",
       "      <th>2</th>\n",
       "      <td>chr1</td>\n",
       "      <td>10620</td>\n",
       "    </tr>\n",
       "    <tr>\n",
       "      <th>3</th>\n",
       "      <td>chr1</td>\n",
       "      <td>10631</td>\n",
       "    </tr>\n",
       "    <tr>\n",
       "      <th>4</th>\n",
       "      <td>chr1</td>\n",
       "      <td>10867</td>\n",
       "    </tr>\n",
       "    <tr>\n",
       "      <th>...</th>\n",
       "      <td>...</td>\n",
       "      <td>...</td>\n",
       "    </tr>\n",
       "    <tr>\n",
       "      <th>4374954</th>\n",
       "      <td>chrY</td>\n",
       "      <td>59357712</td>\n",
       "    </tr>\n",
       "    <tr>\n",
       "      <th>4374955</th>\n",
       "      <td>chrY</td>\n",
       "      <td>59357736</td>\n",
       "    </tr>\n",
       "    <tr>\n",
       "      <th>4374956</th>\n",
       "      <td>chrY</td>\n",
       "      <td>59357765</td>\n",
       "    </tr>\n",
       "    <tr>\n",
       "      <th>4374957</th>\n",
       "      <td>chrY</td>\n",
       "      <td>59357786</td>\n",
       "    </tr>\n",
       "    <tr>\n",
       "      <th>4374958</th>\n",
       "      <td>chrY</td>\n",
       "      <td>59357793</td>\n",
       "    </tr>\n",
       "  </tbody>\n",
       "</table>\n",
       "<p>4374959 rows × 2 columns</p>\n",
       "</div>"
      ],
      "text/plain": [
       "        chrom       end\n",
       "0        chr1     10609\n",
       "1        chr1     10617\n",
       "2        chr1     10620\n",
       "3        chr1     10631\n",
       "4        chr1     10867\n",
       "...       ...       ...\n",
       "4374954  chrY  59357712\n",
       "4374955  chrY  59357736\n",
       "4374956  chrY  59357765\n",
       "4374957  chrY  59357786\n",
       "4374958  chrY  59357793\n",
       "\n",
       "[4374959 rows x 2 columns]"
      ]
     },
     "execution_count": 11,
     "metadata": {},
     "output_type": "execute_result"
    }
   ],
   "source": [
    "df = pd.read_parquet(\"data/GSE49828_methylation_matrix.parquet\")[[\"chr\", \"cpg_pos\"]].rename(columns={\"chr\": \"chrom\", \"cpg_pos\": \"end\"})\n",
    "df"
   ]
  },
  {
   "cell_type": "code",
   "execution_count": 13,
   "id": "8873aecf",
   "metadata": {},
   "outputs": [
    {
     "data": {
      "application/vnd.microsoft.datawrangler.viewer.v0+json": {
       "columns": [
        {
         "name": "index",
         "rawType": "int64",
         "type": "integer"
        },
        {
         "name": "chrom",
         "rawType": "object",
         "type": "string"
        },
        {
         "name": "end",
         "rawType": "int32",
         "type": "integer"
        },
        {
         "name": "site_name",
         "rawType": "object",
         "type": "string"
        },
        {
         "name": "start",
         "rawType": "int32",
         "type": "integer"
        }
       ],
       "ref": "50dc4856-9501-4982-8ab6-2c5c8eb07735",
       "rows": [
        [
         "0",
         "chr1",
         "10609",
         "chr1_10609",
         "10608"
        ],
        [
         "1",
         "chr1",
         "10617",
         "chr1_10617",
         "10616"
        ],
        [
         "2",
         "chr1",
         "10620",
         "chr1_10620",
         "10619"
        ],
        [
         "3",
         "chr1",
         "10631",
         "chr1_10631",
         "10630"
        ],
        [
         "4",
         "chr1",
         "10867",
         "chr1_10867",
         "10866"
        ],
        [
         "5",
         "chr1",
         "10885",
         "chr1_10885",
         "10884"
        ],
        [
         "6",
         "chr1",
         "10887",
         "chr1_10887",
         "10886"
        ],
        [
         "7",
         "chr1",
         "10903",
         "chr1_10903",
         "10902"
        ],
        [
         "8",
         "chr1",
         "10908",
         "chr1_10908",
         "10907"
        ],
        [
         "9",
         "chr1",
         "10914",
         "chr1_10914",
         "10913"
        ],
        [
         "10",
         "chr1",
         "10924",
         "chr1_10924",
         "10923"
        ],
        [
         "11",
         "chr1",
         "10934",
         "chr1_10934",
         "10933"
        ],
        [
         "12",
         "chr1",
         "10937",
         "chr1_10937",
         "10936"
        ],
        [
         "13",
         "chr1",
         "10943",
         "chr1_10943",
         "10942"
        ],
        [
         "14",
         "chr1",
         "10961",
         "chr1_10961",
         "10960"
        ],
        [
         "15",
         "chr1",
         "10963",
         "chr1_10963",
         "10962"
        ],
        [
         "16",
         "chr1",
         "10979",
         "chr1_10979",
         "10978"
        ],
        [
         "17",
         "chr1",
         "10984",
         "chr1_10984",
         "10983"
        ],
        [
         "18",
         "chr1",
         "10990",
         "chr1_10990",
         "10989"
        ],
        [
         "19",
         "chr1",
         "10998",
         "chr1_10998",
         "10997"
        ],
        [
         "20",
         "chr1",
         "11008",
         "chr1_11008",
         "11007"
        ],
        [
         "21",
         "chr1",
         "11012",
         "chr1_11012",
         "11011"
        ],
        [
         "22",
         "chr1",
         "11027",
         "chr1_11027",
         "11026"
        ],
        [
         "23",
         "chr1",
         "11300",
         "chr1_11300",
         "11299"
        ],
        [
         "24",
         "chr1",
         "11343",
         "chr1_11343",
         "11342"
        ],
        [
         "25",
         "chr1",
         "11346",
         "chr1_11346",
         "11345"
        ],
        [
         "26",
         "chr1",
         "11404",
         "chr1_11404",
         "11403"
        ],
        [
         "27",
         "chr1",
         "11879",
         "chr1_11879",
         "11878"
        ],
        [
         "28",
         "chr1",
         "12355",
         "chr1_12355",
         "12354"
        ],
        [
         "29",
         "chr1",
         "12426",
         "chr1_12426",
         "12425"
        ],
        [
         "30",
         "chr1",
         "12506",
         "chr1_12506",
         "12505"
        ],
        [
         "31",
         "chr1",
         "12521",
         "chr1_12521",
         "12520"
        ],
        [
         "32",
         "chr1",
         "12558",
         "chr1_12558",
         "12557"
        ],
        [
         "33",
         "chr1",
         "12586",
         "chr1_12586",
         "12585"
        ],
        [
         "34",
         "chr1",
         "12672",
         "chr1_12672",
         "12671"
        ],
        [
         "35",
         "chr1",
         "12675",
         "chr1_12675",
         "12674"
        ],
        [
         "36",
         "chr1",
         "12679",
         "chr1_12679",
         "12678"
        ],
        [
         "37",
         "chr1",
         "12754",
         "chr1_12754",
         "12753"
        ],
        [
         "38",
         "chr1",
         "12757",
         "chr1_12757",
         "12756"
        ],
        [
         "39",
         "chr1",
         "12773",
         "chr1_12773",
         "12772"
        ],
        [
         "40",
         "chr1",
         "14888",
         "chr1_14888",
         "14887"
        ],
        [
         "41",
         "chr1",
         "14947",
         "chr1_14947",
         "14946"
        ],
        [
         "42",
         "chr1",
         "14954",
         "chr1_14954",
         "14953"
        ],
        [
         "43",
         "chr1",
         "14975",
         "chr1_14975",
         "14974"
        ],
        [
         "44",
         "chr1",
         "15004",
         "chr1_15004",
         "15003"
        ],
        [
         "45",
         "chr1",
         "15028",
         "chr1_15028",
         "15027"
        ],
        [
         "46",
         "chr1",
         "15045",
         "chr1_15045",
         "15044"
        ],
        [
         "47",
         "chr1",
         "15085",
         "chr1_15085",
         "15084"
        ],
        [
         "48",
         "chr1",
         "15089",
         "chr1_15089",
         "15088"
        ],
        [
         "49",
         "chr1",
         "15171",
         "chr1_15171",
         "15170"
        ]
       ],
       "shape": {
        "columns": 4,
        "rows": 4374959
       }
      },
      "text/html": [
       "<div>\n",
       "<style scoped>\n",
       "    .dataframe tbody tr th:only-of-type {\n",
       "        vertical-align: middle;\n",
       "    }\n",
       "\n",
       "    .dataframe tbody tr th {\n",
       "        vertical-align: top;\n",
       "    }\n",
       "\n",
       "    .dataframe thead th {\n",
       "        text-align: right;\n",
       "    }\n",
       "</style>\n",
       "<table border=\"1\" class=\"dataframe\">\n",
       "  <thead>\n",
       "    <tr style=\"text-align: right;\">\n",
       "      <th></th>\n",
       "      <th>chrom</th>\n",
       "      <th>end</th>\n",
       "      <th>site_name</th>\n",
       "      <th>start</th>\n",
       "    </tr>\n",
       "  </thead>\n",
       "  <tbody>\n",
       "    <tr>\n",
       "      <th>0</th>\n",
       "      <td>chr1</td>\n",
       "      <td>10609</td>\n",
       "      <td>chr1_10609</td>\n",
       "      <td>10608</td>\n",
       "    </tr>\n",
       "    <tr>\n",
       "      <th>1</th>\n",
       "      <td>chr1</td>\n",
       "      <td>10617</td>\n",
       "      <td>chr1_10617</td>\n",
       "      <td>10616</td>\n",
       "    </tr>\n",
       "    <tr>\n",
       "      <th>2</th>\n",
       "      <td>chr1</td>\n",
       "      <td>10620</td>\n",
       "      <td>chr1_10620</td>\n",
       "      <td>10619</td>\n",
       "    </tr>\n",
       "    <tr>\n",
       "      <th>3</th>\n",
       "      <td>chr1</td>\n",
       "      <td>10631</td>\n",
       "      <td>chr1_10631</td>\n",
       "      <td>10630</td>\n",
       "    </tr>\n",
       "    <tr>\n",
       "      <th>4</th>\n",
       "      <td>chr1</td>\n",
       "      <td>10867</td>\n",
       "      <td>chr1_10867</td>\n",
       "      <td>10866</td>\n",
       "    </tr>\n",
       "    <tr>\n",
       "      <th>...</th>\n",
       "      <td>...</td>\n",
       "      <td>...</td>\n",
       "      <td>...</td>\n",
       "      <td>...</td>\n",
       "    </tr>\n",
       "    <tr>\n",
       "      <th>4374954</th>\n",
       "      <td>chrY</td>\n",
       "      <td>59357712</td>\n",
       "      <td>chrY_59357712</td>\n",
       "      <td>59357711</td>\n",
       "    </tr>\n",
       "    <tr>\n",
       "      <th>4374955</th>\n",
       "      <td>chrY</td>\n",
       "      <td>59357736</td>\n",
       "      <td>chrY_59357736</td>\n",
       "      <td>59357735</td>\n",
       "    </tr>\n",
       "    <tr>\n",
       "      <th>4374956</th>\n",
       "      <td>chrY</td>\n",
       "      <td>59357765</td>\n",
       "      <td>chrY_59357765</td>\n",
       "      <td>59357764</td>\n",
       "    </tr>\n",
       "    <tr>\n",
       "      <th>4374957</th>\n",
       "      <td>chrY</td>\n",
       "      <td>59357786</td>\n",
       "      <td>chrY_59357786</td>\n",
       "      <td>59357785</td>\n",
       "    </tr>\n",
       "    <tr>\n",
       "      <th>4374958</th>\n",
       "      <td>chrY</td>\n",
       "      <td>59357793</td>\n",
       "      <td>chrY_59357793</td>\n",
       "      <td>59357792</td>\n",
       "    </tr>\n",
       "  </tbody>\n",
       "</table>\n",
       "<p>4374959 rows × 4 columns</p>\n",
       "</div>"
      ],
      "text/plain": [
       "        chrom       end      site_name     start\n",
       "0        chr1     10609     chr1_10609     10608\n",
       "1        chr1     10617     chr1_10617     10616\n",
       "2        chr1     10620     chr1_10620     10619\n",
       "3        chr1     10631     chr1_10631     10630\n",
       "4        chr1     10867     chr1_10867     10866\n",
       "...       ...       ...            ...       ...\n",
       "4374954  chrY  59357712  chrY_59357712  59357711\n",
       "4374955  chrY  59357736  chrY_59357736  59357735\n",
       "4374956  chrY  59357765  chrY_59357765  59357764\n",
       "4374957  chrY  59357786  chrY_59357786  59357785\n",
       "4374958  chrY  59357793  chrY_59357793  59357792\n",
       "\n",
       "[4374959 rows x 4 columns]"
      ]
     },
     "execution_count": 13,
     "metadata": {},
     "output_type": "execute_result"
    }
   ],
   "source": [
    "df[\"site_name\"] = df[\"chrom\"] + \"_\" + df[\"end\"].astype(str)\n",
    "df[\"start\"] = df[\"end\"] - 1\n",
    "df\n"
   ]
  },
  {
   "cell_type": "code",
   "execution_count": 14,
   "id": "ab81fade",
   "metadata": {},
   "outputs": [],
   "source": [
    "df[[\"chrom\", \"start\", \"end\", \"site_name\"]].to_csv(\"data/GSE49828_cpgs.bed\", sep=\"\\t\", header=False, index=False)"
   ]
  }
 ],
 "metadata": {
  "kernelspec": {
   "display_name": "Python (kerepesi_2025)",
   "language": "python",
   "name": "kerepesi_2025"
  },
  "language_info": {
   "codemirror_mode": {
    "name": "ipython",
    "version": 3
   },
   "file_extension": ".py",
   "mimetype": "text/x-python",
   "name": "python",
   "nbconvert_exporter": "python",
   "pygments_lexer": "ipython3",
   "version": "3.12.11"
  }
 },
 "nbformat": 4,
 "nbformat_minor": 5
}
