{
 "cells": [
  {
   "cell_type": "code",
   "execution_count": null,
   "id": "4d2bde2d-c766-47fb-9972-d2bb2a940af4",
   "metadata": {},
   "outputs": [],
   "source": [
    "%load_ext autoreload\n",
    "%autoreload 2"
   ]
  },
  {
   "cell_type": "markdown",
   "id": "4a2b4a32-9ca1-48a7-ba82-db68fe99ceb4",
   "metadata": {},
   "source": [
    "# download_ref\n",
    "\n",
    "> Download reference genomes, chain files."
   ]
  },
  {
   "cell_type": "code",
   "execution_count": null,
   "id": "0fec12bf-611f-49cb-9bb0-db6b39f22ddd",
   "metadata": {},
   "outputs": [],
   "source": [
    "#| default_exp download_ref"
   ]
  },
  {
   "cell_type": "code",
   "execution_count": null,
   "id": "57ce9061-ebe6-4e99-ac32-21370d35f7d4",
   "metadata": {},
   "outputs": [
    {
     "name": "stderr",
     "output_type": "stream",
     "text": [
      "/home/magyary/anaconda3/envs/kerepesi_2025/lib/python3.12/site-packages/nbdev/doclinks.py:20: UserWarning: pkg_resources is deprecated as an API. See https://setuptools.pypa.io/en/latest/pkg_resources.html. The pkg_resources package is slated for removal as early as 2025-11-30. Refrain from using this package or pin to Setuptools<81.\n",
      "  import pkg_resources,importlib\n"
     ]
    }
   ],
   "source": [
    "#| hide\n",
    "from nbdev.showdoc import *"
   ]
  },
  {
   "cell_type": "markdown",
   "id": "4d175d1f-07d1-41ed-a5e7-ecae1fe4fce1",
   "metadata": {},
   "source": [
    "# Download reference genomes"
   ]
  },
  {
   "cell_type": "code",
   "execution_count": null,
   "id": "cadc6e12-dc31-412f-980a-aba78c8cdceb",
   "metadata": {},
   "outputs": [],
   "source": [
    "#| export\n",
    "\n",
    "from bs_cpg.setup import *\n",
    "from pathlib import Path\n",
    "import os, json\n",
    "import requests\n",
    "from tqdm.auto import tqdm\n",
    "import pysam\n",
    "import subprocess\n",
    "\n"
   ]
  },
  {
   "cell_type": "code",
   "execution_count": null,
   "id": "e550bb4b-aaaa-478c-97af-020b97ecab36",
   "metadata": {},
   "outputs": [],
   "source": [
    "#| export \n",
    "def download_file(url: str, filename: str, sub_dir: Path = None, verbose: bool = True):\n",
    "    \"\"\"\n",
    "    A general utility to download a file, with optional status messages and a progress bar.\n",
    "\n",
    "    Args:\n",
    "        url (str): The URL of the file to download.\n",
    "        filename (str): The name for the saved file.\n",
    "        sub_dir (Path, optional): A subdirectory under the main data path. Defaults to None.\n",
    "        verbose (bool, optional): If True, prints status messages and shows a progress bar. \n",
    "                                  Defaults to True.\n",
    "        \n",
    "    Returns:\n",
    "        Path: The full path to the downloaded file, or None on error.\n",
    "    \"\"\"\n",
    "    base_dir = get_base_data_path()\n",
    "    dest_dir = base_dir / sub_dir if sub_dir else base_dir\n",
    "    dest_dir.mkdir(parents=True, exist_ok=True)\n",
    "    dest_path = dest_dir / filename\n",
    "\n",
    "    if dest_path.exists():\n",
    "        if verbose:\n",
    "            print(f\"✅ File '{dest_path}' already exists. Skipping.\")\n",
    "        return dest_path\n",
    "\n",
    "    if verbose:\n",
    "        print(f\"⬇️  Downloading '{filename}' from {url}...\")\n",
    "        \n",
    "    try:\n",
    "        response = requests.get(url, stream=True, timeout=15)\n",
    "        response.raise_for_status()  # Raise an exception for bad status codes\n",
    "\n",
    "        total_size = int(response.headers.get('content-length', 0))\n",
    "\n",
    "        # The 'disable' parameter controls the tqdm progress bar\n",
    "        with open(dest_path, 'wb') as f, tqdm(\n",
    "            desc=filename,\n",
    "            total=total_size,\n",
    "            unit='iB',\n",
    "            unit_scale=True,\n",
    "            unit_divisor=1024,\n",
    "            disable=not verbose\n",
    "        ) as bar:\n",
    "            for chunk in response.iter_content(chunk_size=8192):\n",
    "                size = f.write(chunk)\n",
    "                bar.update(size)\n",
    "\n",
    "        if verbose:\n",
    "            print(f\"✅ Successfully downloaded to '{dest_path}'\")\n",
    "        return dest_path\n",
    "\n",
    "    except requests.exceptions.RequestException as e:\n",
    "        if verbose:\n",
    "            print(f\"❌ Error downloading file: {e}\")\n",
    "        if dest_path.exists():\n",
    "            dest_path.unlink()  # Clean up partial file\n",
    "        return None"
   ]
  },
  {
   "cell_type": "code",
   "execution_count": null,
   "id": "1f0d6b8f-555b-4549-947f-cd3383fbfd70",
   "metadata": {},
   "outputs": [
    {
     "data": {
      "text/plain": [
       "False"
      ]
     },
     "execution_count": null,
     "metadata": {},
     "output_type": "execute_result"
    }
   ],
   "source": [
    "def is_bgzipped(filepath: Path) -> bool:\n",
    "    \"\"\"\n",
    "    Checks if a file is block-gzipped (BGZF) by reading its header.\n",
    "    \n",
    "    Args:\n",
    "        filepath (Path): The path to the file to check.\n",
    "        \n",
    "    Returns:\n",
    "        bool: True if the file is in BGZF format, False otherwise.\n",
    "    \"\"\"\n",
    "    with open(filepath, 'rb') as f:\n",
    "        header = f.read(14)\n",
    "\n",
    "    # A BGZF file must:\n",
    "    # 1. Be a valid GZIP file (starts with \\x1f\\x8b).\n",
    "    # 2. Have the FEXTRA flag set in its header.\n",
    "    # 3. Contain the BGZF subfield identifier ('BC') at byte 12.\n",
    "    return (\n",
    "        len(header) >= 14 and\n",
    "        header.startswith(b'\\x1f\\x8b') and\n",
    "        (header[3] & 0x04) != 0 and\n",
    "        header[12:14] == b'BC'\n",
    "    )\n",
    "is_bgzipped(filepath=\"/mnt/idms/home/magyary/.bs-cpg/hg19ToHg38.over.chain.gz\")"
   ]
  },
  {
   "cell_type": "code",
   "execution_count": null,
   "id": "b45f2bb9-08d7-46a7-b810-3dd562cfd2ef",
   "metadata": {},
   "outputs": [],
   "source": [
    "def convert_to_bgzip(input_path: Path, output_path: Path) -> bool:\n",
    "    \"\"\"\n",
    "    Converts a standard gzip file to a bgzip file using command-line tools.\n",
    "    This function replicates the command: `gunzip -c <input> | bgzip > <output>`.\n",
    "\n",
    "    Args:\n",
    "        input_path (Path): The path to the input gzip file.\n",
    "        output_path (Path): The path for the output bgzip file.\n",
    "        \n",
    "    Returns:\n",
    "        bool: True if conversion was successful, False otherwise.\n",
    "    \"\"\"\n",
    "    try:\n",
    "        # Open the output file handle BEFORE starting the processes\n",
    "        f_out = open(output_path, 'wb')\n",
    "\n",
    "        # Start the gunzip process, piping its stdout\n",
    "        p1 = subprocess.Popen(['gunzip', '-c', str(input_path)], stdout=subprocess.PIPE)\n",
    "        \n",
    "        # Start the bgzip process, taking stdin from p1 and writing to our file handle\n",
    "        p2 = subprocess.Popen(['bgzip'], stdin=p1.stdout, stdout=f_out)\n",
    "\n",
    "        # This allows p1 to receive a SIGPIPE if p2 exits before p1 is done.\n",
    "        p1.stdout.close()\n",
    "        \n",
    "        # Wait for the bgzip process to complete\n",
    "        return_code = p2.wait()\n",
    "\n",
    "        # NOW that the process is finished, close the file handle\n",
    "        f_out.close()\n",
    "\n",
    "        if return_code != 0:\n",
    "            print(f\"❌ Error: bgzip process failed with exit code {return_code}\")\n",
    "            # Clean up the failed output file\n",
    "            if output_path.exists(): output_path.unlink()\n",
    "            return False\n",
    "            \n",
    "    except FileNotFoundError as e:\n",
    "        print(f\"❌ Error: '{e.filename}' not found. Is bgzip (part of htslib) installed and in your PATH?\")\n",
    "        return False\n",
    "        \n",
    "    return True"
   ]
  },
  {
   "cell_type": "code",
   "execution_count": null,
   "id": "47b99970-0889-4aa1-8eeb-84f763c2d96c",
   "metadata": {},
   "outputs": [],
   "source": [
    "#| export \n",
    "def get_ref_genome(name: str, **kwargs):\n",
    "    \"\"\"\n",
    "    Downloads a reference genome and ensures it is properly compressed with\n",
    "    bgzip for use with pysam.\n",
    "    \"\"\"\n",
    "    verbose = kwargs.get('verbose', True)\n",
    "    final_filename = f\"{name}.fa.bgz\"\n",
    "    data_dir = get_base_data_path()\n",
    "    final_path = data_dir / final_filename\n",
    "\n",
    "    if final_path.exists():\n",
    "        if verbose: print(f\"✅ Final file '{final_path}' already exists.\")\n",
    "        return str(final_path)\n",
    "\n",
    "    gz_filename = f\"{name}.fa.gz\"\n",
    "    gz_path = download_file(\n",
    "        url=f\"https://hgdownload.soe.ucsc.edu/goldenPath/{name}/bigZips/{gz_filename}\",\n",
    "        filename=gz_filename,\n",
    "        **kwargs\n",
    "    )\n",
    "\n",
    "    if gz_path is None: return None\n",
    "\n",
    "    if is_bgzipped(gz_path):\n",
    "        if verbose: print(f\"👍 Downloaded file is already bgzipped. Renaming...\")\n",
    "        gz_path.rename(final_path)\n",
    "    else:\n",
    "        if verbose: print(f\"⚙️ Converting standard gzip to bgzip format using command-line tools...\")\n",
    "        # ---- THIS IS THE REPLACEMENT ----\n",
    "        success = convert_to_bgzip(gz_path, final_path)\n",
    "        if not success:\n",
    "            print(f\"❌ Conversion failed. Please check the errors above.\")\n",
    "            return None\n",
    "        # -------------------------------\n",
    "        gz_path.unlink()\n",
    "\n",
    "    if verbose: print(f\"✅ Successfully prepared '{final_path}'\")\n",
    "    return str(final_path)\n",
    "#download_ref_genome('hg38')"
   ]
  },
  {
   "cell_type": "code",
   "execution_count": null,
   "id": "2d648b56-4484-4c4c-812f-5927608ebd82",
   "metadata": {},
   "outputs": [
    {
     "name": "stdout",
     "output_type": "stream",
     "text": [
      "✅ Final file '/mnt/idms/home/magyary/.bs-cpg/hg38.fa.bgz' already exists.\n"
     ]
    },
    {
     "data": {
      "text/plain": [
       "'/mnt/idms/home/magyary/.bs-cpg/hg38.fa.bgz'"
      ]
     },
     "execution_count": null,
     "metadata": {},
     "output_type": "execute_result"
    }
   ],
   "source": [
    "get_ref_genome(\"hg38\")"
   ]
  },
  {
   "cell_type": "code",
   "execution_count": null,
   "id": "a640d34c-adc6-4cbb-9bfe-02b2eeb4ef27",
   "metadata": {},
   "outputs": [
    {
     "data": {
      "text/plain": [
       "'Hg38'"
      ]
     },
     "execution_count": null,
     "metadata": {},
     "output_type": "execute_result"
    }
   ],
   "source": [
    "\"hg38\".capitalize()"
   ]
  },
  {
   "cell_type": "code",
   "execution_count": null,
   "id": "db51e08b-9fe6-4341-a95e-a93e2b7c57ae",
   "metadata": {},
   "outputs": [
    {
     "data": {
      "text/plain": [
       "Path('/mnt/idms/home/magyary/.bs-cpg/hg19ToHg38.over.chain.gz')"
      ]
     },
     "execution_count": null,
     "metadata": {},
     "output_type": "execute_result"
    }
   ],
   "source": [
    "#| export \n",
    "def get_liftover_chain(genome_from: str, genome_to: str, **kwargs):\n",
    "    \"\"\"\n",
    "    Download liftover chain file between genome versions from UCSC goldenPath liftOver.\n",
    "    To get path to downloaded file use with `verbose = False`. \n",
    "\n",
    "    Args:\n",
    "        genome_from (str): The original reference genome name (e.g., 'hg19', 'hg38', 'mm10').\n",
    "        genome_to (str): The new reference genome name (e.g., 'hg19', 'hg38', 'mm10').\n",
    "        **kwargs: Additional keyword arguments to be passed to download_file()\n",
    "                  (e.g., verbose=False)\n",
    "                  \n",
    "    Returns:\n",
    "        Path: The path to the downloaded file, or None if an error occurred.\n",
    "    \"\"\"\n",
    "    genome_to_camel=genome_to.capitalize()\n",
    "    file_name = f\"{genome_from}To{genome_to_camel}.over.chain.gz\"\n",
    "    url = f\"https://hgdownload.soe.ucsc.edu/goldenPath/{genome_from}/liftOver/{file_name}\"\n",
    "\n",
    "    return download_file(url=url, filename=file_name, **kwargs)\n",
    "get_liftover_chain(\"hg19\", \"hg38\", verbose = False)"
   ]
  },
  {
   "cell_type": "code",
   "execution_count": null,
   "id": "5aa42dfc-5e66-48b3-92ea-fadeb3289a65",
   "metadata": {},
   "outputs": [],
   "source": [
    "#| hide\n",
    "import nbdev; nbdev.nbdev_export()"
   ]
  }
 ],
 "metadata": {
  "kernelspec": {
   "display_name": "kerepesi_2025",
   "language": "python",
   "name": "kerepesi_2025"
  }
 },
 "nbformat": 4,
 "nbformat_minor": 5
}
