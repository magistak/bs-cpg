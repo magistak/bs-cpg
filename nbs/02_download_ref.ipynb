{
 "cells": [
  {
   "cell_type": "code",
   "execution_count": null,
   "id": "4d2bde2d-c766-47fb-9972-d2bb2a940af4",
   "metadata": {},
   "outputs": [],
   "source": [
    "%load_ext autoreload\n",
    "%autoreload 2"
   ]
  },
  {
   "cell_type": "markdown",
   "id": "4a2b4a32-9ca1-48a7-ba82-db68fe99ceb4",
   "metadata": {},
   "source": [
    "# download_ref\n",
    "\n",
    "> Download reference genomes, chain files."
   ]
  },
  {
   "cell_type": "code",
   "execution_count": null,
   "id": "0fec12bf-611f-49cb-9bb0-db6b39f22ddd",
   "metadata": {},
   "outputs": [],
   "source": [
    "#| default_exp download_ref"
   ]
  },
  {
   "cell_type": "code",
   "execution_count": null,
   "id": "57ce9061-ebe6-4e99-ac32-21370d35f7d4",
   "metadata": {},
   "outputs": [],
   "source": [
    "#| hide\n",
    "from nbdev.showdoc import *"
   ]
  },
  {
   "cell_type": "markdown",
   "id": "4d175d1f-07d1-41ed-a5e7-ecae1fe4fce1",
   "metadata": {},
   "source": [
    "# Download reference genomes"
   ]
  },
  {
   "cell_type": "code",
   "execution_count": null,
   "id": "cadc6e12-dc31-412f-980a-aba78c8cdceb",
   "metadata": {},
   "outputs": [],
   "source": [
    "#| export\n",
    "\n",
    "from bs_cpg.setup import *\n",
    "from pathlib import Path\n",
    "import os, json\n",
    "import requests\n",
    "from tqdm.auto import tqdm"
   ]
  },
  {
   "cell_type": "code",
   "execution_count": null,
   "id": "e550bb4b-aaaa-478c-97af-020b97ecab36",
   "metadata": {},
   "outputs": [],
   "source": [
    "#| export \n",
    "def download_file(url: str, filename: str, sub_dir: Path = None):\n",
    "    \"\"\"\n",
    "    A general utility to download a file with a progress bar.\n",
    "\n",
    "    Args:\n",
    "        url (str): The URL of the file to download.\n",
    "        filename (str): The name for the saved file.\n",
    "        sub_dir (Path): The subdirectory where the file will be saved under get_base_data_path().\n",
    "            If empty, it will be saved to get_base_data_path().\n",
    "        \n",
    "    Returns:\n",
    "        Path: The full path to the downloaded file, or None on error.\n",
    "    \"\"\"\n",
    "    # Ensure the destination directory exists\n",
    "    base_dir = get_base_data_path()\n",
    "    dest_dir = base_dir / sub_dir if sub_dir else base_dir\n",
    "    dest_dir.mkdir(parents=True, exist_ok=True)\n",
    "    dest_path = dest_dir / filename\n",
    "\n",
    "    if dest_path.exists():\n",
    "        print(f\"✅ File '{dest_path}' already exists. Skipping.\")\n",
    "        return dest_path\n",
    "\n",
    "    print(f\"⬇️  Downloading '{filename}' from {url}...\")\n",
    "    try:\n",
    "        response = requests.get(url, stream=True, timeout=15)\n",
    "        response.raise_for_status()  # Raise an exception for bad status codes\n",
    "\n",
    "        total_size = int(response.headers.get('content-length', 0))\n",
    "\n",
    "        with open(dest_path, 'wb') as f, tqdm(\n",
    "            desc=filename,\n",
    "            total=total_size,\n",
    "            unit='iB',\n",
    "            unit_scale=True,\n",
    "            unit_divisor=1024,\n",
    "        ) as bar:\n",
    "            for chunk in response.iter_content(chunk_size=8192):\n",
    "                size = f.write(chunk)\n",
    "                bar.update(size)\n",
    "\n",
    "        print(f\"✅ Successfully downloaded to '{dest_path}'\")\n",
    "        return dest_path\n",
    "\n",
    "    except requests.exceptions.RequestException as e:\n",
    "        print(f\"❌ Error downloading file: {e}\")\n",
    "        if dest_path.exists():\n",
    "            dest_path.unlink()  # Clean up partial file\n",
    "        return None"
   ]
  },
  {
   "cell_type": "code",
   "execution_count": null,
   "id": "47b99970-0889-4aa1-8eeb-84f763c2d96c",
   "metadata": {},
   "outputs": [],
   "source": [
    "#| export \n",
    "def download_ref_genome(name: str):\n",
    "    \"\"\"\n",
    "    Download a reference genome from UCSC goldenPath bigZips.\n",
    "\n",
    "    Args:\n",
    "        name (str): The reference genome name (e.g., 'hg19', 'hg38', 'mm10').\n",
    "    \n",
    "    Returns:\n",
    "        Path: The path to the downloaded file, or None if an error occurred.\n",
    "    \"\"\"\n",
    "    file_name = f\"{name}.fa.gz\"\n",
    "    url = f\"https://hgdownload.soe.ucsc.edu/goldenPath/{name}/bigZips/{file_name}\"\n",
    "    \n",
    "    return download_file(url=url, filename=file_name)\n",
    "download_ref_genome('hg38')"
   ]
  },
  {
   "cell_type": "code",
   "execution_count": null,
   "id": "a640d34c-adc6-4cbb-9bfe-02b2eeb4ef27",
   "metadata": {},
   "outputs": [],
   "source": [
    "\"hg38\".capitalize()"
   ]
  },
  {
   "cell_type": "code",
   "execution_count": null,
   "id": "db51e08b-9fe6-4341-a95e-a93e2b7c57ae",
   "metadata": {},
   "outputs": [],
   "source": [
    "#| export \n",
    "def download_liftover_chain(genome_from: str, genome_to: str):\n",
    "    \"\"\"\n",
    "    Download liftover chain file between genome versions from UCSC goldenPath liftOver.\n",
    "\n",
    "    Args:\n",
    "        genome_from (str): The original reference genome name (e.g., 'hg19', 'hg38', 'mm10').\n",
    "        genome_to (str): The new reference genome name (e.g., 'hg19', 'hg38', 'mm10').\n",
    "    \n",
    "    Returns:\n",
    "        Path: The path to the downloaded file, or None if an error occurred.\n",
    "    \"\"\"\n",
    "    genome_to_camel=genome_to.capitalize()\n",
    "    file_name = f\"{genome_from}To{genome_to_camel}.over.chain.gz\"\n",
    "    url = f\"https://hgdownload.soe.ucsc.edu/goldenPath/{genome_from}/liftOver/{file_name}\"\n",
    "\n",
    "    return download_file(url=url, filename=file_name)\n",
    "download_liftover_chain(\"hg19\", \"hg38\")"
   ]
  },
  {
   "cell_type": "code",
   "execution_count": null,
   "id": "c9bdb04a-3ec5-4794-bf83-1df3627f8027",
   "metadata": {},
   "outputs": [],
   "source": [
    "    \n"
   ]
  },
  {
   "cell_type": "code",
   "execution_count": null,
   "id": "f3ee9ce0-2d7f-4dc3-85c7-640e47012a05",
   "metadata": {},
   "outputs": [],
   "source": [
    "#| export\n",
    "\n",
    "def func(): pass;"
   ]
  },
  {
   "cell_type": "code",
   "execution_count": null,
   "id": "5aa42dfc-5e66-48b3-92ea-fadeb3289a65",
   "metadata": {},
   "outputs": [],
   "source": [
    "#| hide\n",
    "import nbdev; nbdev.nbdev_export()"
   ]
  }
 ],
 "metadata": {
  "kernelspec": {
   "display_name": "kerepesi_2025",
   "language": "python",
   "name": "kerepesi_2025"
  }
 },
 "nbformat": 4,
 "nbformat_minor": 5
}
