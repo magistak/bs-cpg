{
 "cells": [
  {
   "cell_type": "code",
   "execution_count": null,
   "metadata": {},
   "outputs": [],
   "source": [
    "%load_ext autoreload\n",
    "%autoreload 2"
   ]
  },
  {
   "cell_type": "markdown",
   "metadata": {},
   "source": [
    "# download_processed\n",
    "\n",
    "> Download processed RRBS data. This is usually in BED format."
   ]
  },
  {
   "cell_type": "code",
   "execution_count": null,
   "metadata": {},
   "outputs": [],
   "source": [
    "#| default_exp download_processed"
   ]
  },
  {
   "cell_type": "code",
   "execution_count": null,
   "metadata": {},
   "outputs": [
    {
     "name": "stderr",
     "output_type": "stream",
     "text": [
      "/home/magyary/anaconda3/envs/kerepesi_2025/lib/python3.12/site-packages/nbdev/doclinks.py:20: UserWarning: pkg_resources is deprecated as an API. See https://setuptools.pypa.io/en/latest/pkg_resources.html. The pkg_resources package is slated for removal as early as 2025-11-30. Refrain from using this package or pin to Setuptools<81.\n",
      "  import pkg_resources,importlib\n"
     ]
    }
   ],
   "source": [
    "#| hide\n",
    "from nbdev.showdoc import *"
   ]
  },
  {
   "cell_type": "markdown",
   "metadata": {},
   "source": [
    "# Import"
   ]
  },
  {
   "cell_type": "code",
   "execution_count": null,
   "metadata": {},
   "outputs": [],
   "source": [
    "#| export\n",
    "from geofetch import Geofetcher as OriginalGeofetcher\n",
    "from tenacity import retry, wait_exponential, stop_after_attempt \n",
    "from joblib import Memory\n",
    "\n",
    "memory = Memory(\".cache\", verbose=0)"
   ]
  },
  {
   "cell_type": "code",
   "execution_count": null,
   "metadata": {},
   "outputs": [],
   "source": [
    "#| export\n",
    "def _fetch_projects(*a, **kw):\n",
    "    return OriginalGeofetcher().get_projects(*a, **kw)\n",
    "\n",
    "_fetch_projects_retry = retry(\n",
    "    wait=wait_exponential(multiplier=0.5, min=0.1, max=10),\n",
    "    stop=stop_after_attempt(3),\n",
    "    reraise=True\n",
    ")(_fetch_projects)\n",
    "\n",
    "_get_projects_cached = memory.cache(_fetch_projects_retry)"
   ]
  },
  {
   "cell_type": "code",
   "execution_count": null,
   "metadata": {},
   "outputs": [],
   "source": [
    "#| export\n",
    "class Geofetcher(OriginalGeofetcher):\n",
    "    def get_projects(self, *a, ignore_cache=False, **kw):\n",
    "        if ignore_cache:\n",
    "            _get_projects_cached.clear()\n",
    "            return _fetch_projects_retry(*a, **kw)\n",
    "        return _get_projects_cached(*a, **kw)"
   ]
  },
  {
   "cell_type": "code",
   "execution_count": null,
   "metadata": {},
   "outputs": [
    {
     "name": "stderr",
     "output_type": "stream",
     "text": [
      "[INFO] [18:08:41] Metadata folder: /mnt/idms/home/magyary/bs-dna-methyl/nbs/project_name\n"
     ]
    }
   ],
   "source": [
    "#| show_doc\n",
    "geo=Geofetcher(just_metadata=True)\n",
    "acc = 'GSE51239'"
   ]
  },
  {
   "cell_type": "markdown",
   "metadata": {},
   "source": [
    "List files"
   ]
  },
  {
   "cell_type": "code",
   "execution_count": null,
   "metadata": {},
   "outputs": [
    {
     "name": "stderr",
     "output_type": "stream",
     "text": [
      "[INFO] [18:08:41] Metadata folder: /mnt/idms/home/magyary/bs-dna-methyl/nbs/project_name\n",
      "[INFO] [18:08:41] Trying GSE51239 (not a file) as accession...\n",
      "[INFO] [18:08:41] Trying GSE51239 (not a file) as accession...\n",
      "[INFO] [18:08:41] Skipped 0 accessions. Starting now.\n",
      "[INFO] [18:08:41] \u001b[38;5;200mProcessing accession 1 of 1: 'GSE51239'\u001b[0m\n",
      "[INFO] [18:08:43] Processed 48 samples.\n",
      "[INFO] [18:08:43] Expanding metadata list...\n",
      "[INFO] [18:08:43] Found SRA Project accession: SRP030612\n",
      "[INFO] [18:08:43] Downloading SRP030612 sra metadata\n",
      "[INFO] [18:08:46] Parsing SRA file to download SRR records\n",
      "[INFO] [18:08:46] Dry run, no data will be downloaded\n",
      "[INFO] [18:08:46] Finished processing 1 accession(s)\n",
      "[INFO] [18:08:46] Cleaning soft files ...\n",
      "[INFO] [18:08:46] Creating complete project annotation sheets and config file...\n"
     ]
    },
    {
     "data": {
      "text/plain": [
       "{'GSE51239_raw': Project\n",
       " 48 samples (showing first 20): hsperm-524-90, hsperm-530-90, hsperm-533-90, hsperm-534-90, h8c-1, h8c-2, hblast-1, hblast-2, hblast-3, hblastsingle-2, hblastsingle-5, hicm-1, hicm-2, hte-1, hte-2, hesp0-e1, hesp0-e4, hesp0-e5, hesp1-e1, hesp1-e4\n",
       " Sections: name, pep_version, sample_table, experiment_metadata, sample_modifiers, description}"
      ]
     },
     "execution_count": null,
     "metadata": {},
     "output_type": "execute_result"
    }
   ],
   "source": [
    "#| show_doc\n",
    "#|eval: false\n",
    "projects = geo.get_projects(acc)\n",
    "projects"
   ]
  },
  {
   "cell_type": "markdown",
   "metadata": {},
   "source": [
    "Download files"
   ]
  },
  {
   "cell_type": "code",
   "execution_count": null,
   "metadata": {},
   "outputs": [
    {
     "name": "stderr",
     "output_type": "stream",
     "text": [
      "[INFO] [18:09:46] Metadata folder: /mnt/idms/home/magyary/sra-data/metadata/GSE51239\n"
     ]
    }
   ],
   "source": [
    "#| export\n",
    "#|eval: false\n",
    "geof=Geofetcher(processed=True, data_source=\"all\", metadata_folder = f\"/mnt/idms/home/magyary/sra-data/metadata/\",\n",
    "               name = acc)"
   ]
  },
  {
   "cell_type": "code",
   "execution_count": null,
   "metadata": {},
   "outputs": [
    {
     "name": "stderr",
     "output_type": "stream",
     "text": [
      "[INFO] [18:09:55] Metadata folder: /mnt/idms/home/magyary/bs-dna-methyl/nbs/project_name\n",
      "[INFO] [18:09:55] Trying GSE51239 (not a file) as accession...\n",
      "[INFO] [18:09:55] Trying GSE51239 (not a file) as accession...\n",
      "[INFO] [18:09:55] Skipped 0 accessions. Starting now.\n",
      "[INFO] [18:09:55] \u001b[38;5;200mProcessing accession 1 of 1: 'GSE51239'\u001b[0m\n",
      "[INFO] [18:09:57] Processed 48 samples.\n",
      "[INFO] [18:09:57] Expanding metadata list...\n",
      "[INFO] [18:09:57] Found SRA Project accession: SRP030612\n",
      "[INFO] [18:09:57] Downloading SRP030612 sra metadata\n",
      "[INFO] [18:09:58] Parsing SRA file to download SRR records\n",
      "[INFO] [18:09:58] Getting SRR: SRR1003182  in (GSE51239)\n"
     ]
    },
    {
     "name": "stdout",
     "output_type": "stream",
     "text": [
      "2025-07-28T16:09:58 prefetch.3.2.1: 1) Resolving 'SRR1003182'...\n",
      "2025-07-28T16:09:59 prefetch.3.2.1: Current preference is set to retrieve SRA Normalized Format files with full base quality scores\n"
     ]
    },
    {
     "name": "stderr",
     "output_type": "stream",
     "text": [
      "[INFO] [18:10:00] Getting SRR: SRR1003183  in (GSE51239)\n"
     ]
    },
    {
     "name": "stdout",
     "output_type": "stream",
     "text": [
      "2025-07-28T16:10:00 prefetch.3.2.1: 1) 'SRR1003182' is found locally \n",
      "2025-07-28T16:10:00 prefetch.3.2.1: 1) Resolving 'SRR1003183'...\n",
      "2025-07-28T16:10:01 prefetch.3.2.1: Current preference is set to retrieve SRA Normalized Format files with full base quality scores\n",
      "2025-07-28T16:10:02 prefetch.3.2.1: 1) Downloading 'SRR1003183'...\n",
      "2025-07-28T16:10:02 prefetch.3.2.1:  SRA Normalized Format file is being retrieved\n",
      "2025-07-28T16:10:02 prefetch.3.2.1:  Downloading via HTTPS...\n",
      "2025-07-28T16:10:02 prefetch.3.2.1:    Continue download of 'SRR1003183' from 154660408\n"
     ]
    }
   ],
   "source": [
    "#|eval: false\n",
    "projects_files=geof.get_projects(acc, just_metadata=False, ignore_cache=True)"
   ]
  },
  {
   "cell_type": "markdown",
   "metadata": {},
   "source": [
    "Explore files"
   ]
  },
  {
   "cell_type": "code",
   "execution_count": null,
   "metadata": {},
   "outputs": [
    {
     "data": {
      "text/html": [
       "<div>\n",
       "<style scoped>\n",
       "    .dataframe tbody tr th:only-of-type {\n",
       "        vertical-align: middle;\n",
       "    }\n",
       "\n",
       "    .dataframe tbody tr th {\n",
       "        vertical-align: top;\n",
       "    }\n",
       "\n",
       "    .dataframe thead th {\n",
       "        text-align: right;\n",
       "    }\n",
       "</style>\n",
       "<table border=\"1\" class=\"dataframe\">\n",
       "  <thead>\n",
       "    <tr style=\"text-align: right;\">\n",
       "      <th></th>\n",
       "      <th>sample_name</th>\n",
       "      <th>protocol</th>\n",
       "      <th>organism</th>\n",
       "      <th>read_type</th>\n",
       "      <th>data_source</th>\n",
       "      <th>srr</th>\n",
       "      <th>srx</th>\n",
       "      <th>sample_title</th>\n",
       "      <th>sample_geo_accession</th>\n",
       "      <th>sample_status</th>\n",
       "      <th>...</th>\n",
       "      <th>passage</th>\n",
       "      <th>sequenced_molecule</th>\n",
       "      <th>genome_build</th>\n",
       "      <th>biosample</th>\n",
       "      <th>gsm_id</th>\n",
       "      <th>sra</th>\n",
       "      <th>reanalyzed_by</th>\n",
       "      <th>sample_treatment_protocol_ch1</th>\n",
       "      <th>sample_extract_protocol_ch1</th>\n",
       "      <th>supplementary_files_format_and_content</th>\n",
       "    </tr>\n",
       "    <tr>\n",
       "      <th>sample_name</th>\n",
       "      <th></th>\n",
       "      <th></th>\n",
       "      <th></th>\n",
       "      <th></th>\n",
       "      <th></th>\n",
       "      <th></th>\n",
       "      <th></th>\n",
       "      <th></th>\n",
       "      <th></th>\n",
       "      <th></th>\n",
       "      <th></th>\n",
       "      <th></th>\n",
       "      <th></th>\n",
       "      <th></th>\n",
       "      <th></th>\n",
       "      <th></th>\n",
       "      <th></th>\n",
       "      <th></th>\n",
       "      <th></th>\n",
       "      <th></th>\n",
       "      <th></th>\n",
       "    </tr>\n",
       "  </thead>\n",
       "  <tbody>\n",
       "    <tr>\n",
       "      <th>hsperm-524-90</th>\n",
       "      <td>hsperm-524-90</td>\n",
       "      <td></td>\n",
       "      <td></td>\n",
       "      <td></td>\n",
       "      <td></td>\n",
       "      <td></td>\n",
       "      <td></td>\n",
       "      <td>hSperm-524-90</td>\n",
       "      <td>GSM1240860</td>\n",
       "      <td>Public on Jul 23 2014</td>\n",
       "      <td>...</td>\n",
       "      <td>0</td>\n",
       "      <td>Msp1 digested bisulfite converted genomic DNA</td>\n",
       "      <td>hg19</td>\n",
       "      <td>https://www.ncbi.nlm.nih.gov/biosample/SAMN023...</td>\n",
       "      <td></td>\n",
       "      <td></td>\n",
       "      <td></td>\n",
       "      <td>hICM, hTE,mICM and mTE were isolated using sta...</td>\n",
       "      <td>DNA was extracted from all tissue using 14 hou...</td>\n",
       "      <td>.cpgs: (chromosome,position,seenCount,methylat...</td>\n",
       "    </tr>\n",
       "    <tr>\n",
       "      <th>hsperm-530-90</th>\n",
       "      <td>hsperm-530-90</td>\n",
       "      <td></td>\n",
       "      <td></td>\n",
       "      <td></td>\n",
       "      <td></td>\n",
       "      <td></td>\n",
       "      <td></td>\n",
       "      <td>hSperm-530-90</td>\n",
       "      <td>GSM1240861</td>\n",
       "      <td>Public on Jul 23 2014</td>\n",
       "      <td>...</td>\n",
       "      <td>0</td>\n",
       "      <td>Msp1 digested bisulfite converted genomic DNA</td>\n",
       "      <td>hg19</td>\n",
       "      <td>https://www.ncbi.nlm.nih.gov/biosample/SAMN023...</td>\n",
       "      <td></td>\n",
       "      <td></td>\n",
       "      <td></td>\n",
       "      <td>hICM, hTE,mICM and mTE were isolated using sta...</td>\n",
       "      <td>DNA was extracted from all tissue using 14 hou...</td>\n",
       "      <td>.cpgs: (chromosome,position,seenCount,methylat...</td>\n",
       "    </tr>\n",
       "    <tr>\n",
       "      <th>hsperm-533-90</th>\n",
       "      <td>hsperm-533-90</td>\n",
       "      <td></td>\n",
       "      <td></td>\n",
       "      <td></td>\n",
       "      <td></td>\n",
       "      <td></td>\n",
       "      <td></td>\n",
       "      <td>hSperm-533-90</td>\n",
       "      <td>GSM1240862</td>\n",
       "      <td>Public on Jul 23 2014</td>\n",
       "      <td>...</td>\n",
       "      <td>0</td>\n",
       "      <td>Msp1 digested bisulfite converted genomic DNA</td>\n",
       "      <td>hg19</td>\n",
       "      <td>https://www.ncbi.nlm.nih.gov/biosample/SAMN023...</td>\n",
       "      <td></td>\n",
       "      <td></td>\n",
       "      <td></td>\n",
       "      <td>hICM, hTE,mICM and mTE were isolated using sta...</td>\n",
       "      <td>DNA was extracted from all tissue using 14 hou...</td>\n",
       "      <td>.cpgs: (chromosome,position,seenCount,methylat...</td>\n",
       "    </tr>\n",
       "    <tr>\n",
       "      <th>hsperm-534-90</th>\n",
       "      <td>hsperm-534-90</td>\n",
       "      <td></td>\n",
       "      <td></td>\n",
       "      <td></td>\n",
       "      <td></td>\n",
       "      <td></td>\n",
       "      <td></td>\n",
       "      <td>hSperm-534-90</td>\n",
       "      <td>GSM1240863</td>\n",
       "      <td>Public on Jul 23 2014</td>\n",
       "      <td>...</td>\n",
       "      <td>0</td>\n",
       "      <td>Msp1 digested bisulfite converted genomic DNA</td>\n",
       "      <td>hg19</td>\n",
       "      <td>https://www.ncbi.nlm.nih.gov/biosample/SAMN023...</td>\n",
       "      <td></td>\n",
       "      <td></td>\n",
       "      <td></td>\n",
       "      <td>hICM, hTE,mICM and mTE were isolated using sta...</td>\n",
       "      <td>DNA was extracted from all tissue using 14 hou...</td>\n",
       "      <td>.cpgs: (chromosome,position,seenCount,methylat...</td>\n",
       "    </tr>\n",
       "    <tr>\n",
       "      <th>h8c-1</th>\n",
       "      <td>h8c-1</td>\n",
       "      <td></td>\n",
       "      <td></td>\n",
       "      <td></td>\n",
       "      <td></td>\n",
       "      <td></td>\n",
       "      <td></td>\n",
       "      <td>h8c-1</td>\n",
       "      <td>GSM1240864</td>\n",
       "      <td>Public on Jul 23 2014</td>\n",
       "      <td>...</td>\n",
       "      <td>0</td>\n",
       "      <td>Msp1 digested bisulfite converted genomic DNA</td>\n",
       "      <td>hg19</td>\n",
       "      <td>https://www.ncbi.nlm.nih.gov/biosample/SAMN023...</td>\n",
       "      <td></td>\n",
       "      <td></td>\n",
       "      <td></td>\n",
       "      <td>hICM, hTE,mICM and mTE were isolated using sta...</td>\n",
       "      <td>DNA was extracted from all tissue using 14 hou...</td>\n",
       "      <td>.cpgs: (chromosome,position,seenCount,methylat...</td>\n",
       "    </tr>\n",
       "  </tbody>\n",
       "</table>\n",
       "<p>5 rows × 48 columns</p>\n",
       "</div>"
      ],
      "text/plain": [
       "                 sample_name protocol organism read_type data_source srr srx  \\\n",
       "sample_name                                                                    \n",
       "hsperm-524-90  hsperm-524-90                                                   \n",
       "hsperm-530-90  hsperm-530-90                                                   \n",
       "hsperm-533-90  hsperm-533-90                                                   \n",
       "hsperm-534-90  hsperm-534-90                                                   \n",
       "h8c-1                  h8c-1                                                   \n",
       "\n",
       "                sample_title sample_geo_accession          sample_status  ...  \\\n",
       "sample_name                                                               ...   \n",
       "hsperm-524-90  hSperm-524-90           GSM1240860  Public on Jul 23 2014  ...   \n",
       "hsperm-530-90  hSperm-530-90           GSM1240861  Public on Jul 23 2014  ...   \n",
       "hsperm-533-90  hSperm-533-90           GSM1240862  Public on Jul 23 2014  ...   \n",
       "hsperm-534-90  hSperm-534-90           GSM1240863  Public on Jul 23 2014  ...   \n",
       "h8c-1                  h8c-1           GSM1240864  Public on Jul 23 2014  ...   \n",
       "\n",
       "              passage                             sequenced_molecule  \\\n",
       "sample_name                                                            \n",
       "hsperm-524-90       0  Msp1 digested bisulfite converted genomic DNA   \n",
       "hsperm-530-90       0  Msp1 digested bisulfite converted genomic DNA   \n",
       "hsperm-533-90       0  Msp1 digested bisulfite converted genomic DNA   \n",
       "hsperm-534-90       0  Msp1 digested bisulfite converted genomic DNA   \n",
       "h8c-1               0  Msp1 digested bisulfite converted genomic DNA   \n",
       "\n",
       "              genome_build                                          biosample  \\\n",
       "sample_name                                                                     \n",
       "hsperm-524-90         hg19  https://www.ncbi.nlm.nih.gov/biosample/SAMN023...   \n",
       "hsperm-530-90         hg19  https://www.ncbi.nlm.nih.gov/biosample/SAMN023...   \n",
       "hsperm-533-90         hg19  https://www.ncbi.nlm.nih.gov/biosample/SAMN023...   \n",
       "hsperm-534-90         hg19  https://www.ncbi.nlm.nih.gov/biosample/SAMN023...   \n",
       "h8c-1                 hg19  https://www.ncbi.nlm.nih.gov/biosample/SAMN023...   \n",
       "\n",
       "              gsm_id sra reanalyzed_by  \\\n",
       "sample_name                              \n",
       "hsperm-524-90                            \n",
       "hsperm-530-90                            \n",
       "hsperm-533-90                            \n",
       "hsperm-534-90                            \n",
       "h8c-1                                    \n",
       "\n",
       "                                   sample_treatment_protocol_ch1  \\\n",
       "sample_name                                                        \n",
       "hsperm-524-90  hICM, hTE,mICM and mTE were isolated using sta...   \n",
       "hsperm-530-90  hICM, hTE,mICM and mTE were isolated using sta...   \n",
       "hsperm-533-90  hICM, hTE,mICM and mTE were isolated using sta...   \n",
       "hsperm-534-90  hICM, hTE,mICM and mTE were isolated using sta...   \n",
       "h8c-1          hICM, hTE,mICM and mTE were isolated using sta...   \n",
       "\n",
       "                                     sample_extract_protocol_ch1  \\\n",
       "sample_name                                                        \n",
       "hsperm-524-90  DNA was extracted from all tissue using 14 hou...   \n",
       "hsperm-530-90  DNA was extracted from all tissue using 14 hou...   \n",
       "hsperm-533-90  DNA was extracted from all tissue using 14 hou...   \n",
       "hsperm-534-90  DNA was extracted from all tissue using 14 hou...   \n",
       "h8c-1          DNA was extracted from all tissue using 14 hou...   \n",
       "\n",
       "                          supplementary_files_format_and_content  \n",
       "sample_name                                                       \n",
       "hsperm-524-90  .cpgs: (chromosome,position,seenCount,methylat...  \n",
       "hsperm-530-90  .cpgs: (chromosome,position,seenCount,methylat...  \n",
       "hsperm-533-90  .cpgs: (chromosome,position,seenCount,methylat...  \n",
       "hsperm-534-90  .cpgs: (chromosome,position,seenCount,methylat...  \n",
       "h8c-1          .cpgs: (chromosome,position,seenCount,methylat...  \n",
       "\n",
       "[5 rows x 48 columns]"
      ]
     },
     "execution_count": null,
     "metadata": {},
     "output_type": "execute_result"
    }
   ],
   "source": [
    "#| export\n",
    "#|eval: false\n",
    "projects_files['GSE51239_raw'].sample_table.iloc[:5,:]"
   ]
  },
  {
   "cell_type": "code",
   "execution_count": null,
   "metadata": {},
   "outputs": [],
   "source": [
    "#| hide\n",
    "import nbdev; nbdev.nbdev_export()"
   ]
  }
 ],
 "metadata": {
  "kernelspec": {
   "display_name": "python3",
   "language": "python",
   "name": "python3"
  }
 },
 "nbformat": 4,
 "nbformat_minor": 4
}
