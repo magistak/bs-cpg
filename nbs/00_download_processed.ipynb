{
 "cells": [
  {
   "cell_type": "markdown",
   "metadata": {},
   "source": [
    "# download_processed\n",
    "\n",
    "> Download processed RRBS data. This is usually in BED format."
   ]
  },
  {
   "cell_type": "code",
   "execution_count": null,
   "metadata": {},
   "outputs": [],
   "source": [
    "#| default_exp download_processed"
   ]
  },
  {
   "cell_type": "code",
   "execution_count": null,
   "metadata": {},
   "outputs": [],
   "source": [
    "#| hide\n",
    "from nbdev.showdoc import *"
   ]
  },
  {
   "cell_type": "markdown",
   "metadata": {},
   "source": [
    "# Import"
   ]
  },
  {
   "cell_type": "code",
   "execution_count": null,
   "metadata": {},
   "outputs": [],
   "source": [
    "#| export\n",
    "from geofetch import Geofetcher as OriginalGeofetcher\n",
    "from tenacity import retry, wait_exponential, stop_after_attempt \n",
    "from joblib import Memory\n",
    "\n",
    "memory = Memory(\".cache\", verbose=0)"
   ]
  },
  {
   "cell_type": "code",
   "execution_count": null,
   "metadata": {},
   "outputs": [],
   "source": [
    "#| export\n",
    "@memory.cache\n",
    "@retry(\n",
    "    wait=wait_exponential(multiplier=0.5, min=0.1, max=10),\n",
    "    stop=stop_after_attempt(10),\n",
    "    reraise=True\n",
    ")\n",
    "def _get_projects_cached(*args, **kwargs):\n",
    "    fetcher = OriginalGeofetcher()\n",
    "    return fetcher.get_projects(*args, **kwargs)"
   ]
  },
  {
   "cell_type": "code",
   "execution_count": null,
   "metadata": {},
   "outputs": [],
   "source": [
    "#| export\n",
    "class Geofetcher(OriginalGeofetcher):\n",
    "    \"Patched and extended version of Geofetcher class from `geofetcher`.\"\n",
    "    def get_projects(self, *args, **kwargs):\n",
    "        return _get_projects_cached(*args, **kwargs)\n"
   ]
  },
  {
   "cell_type": "code",
   "execution_count": null,
   "metadata": {},
   "outputs": [
    {
     "name": "stderr",
     "output_type": "stream",
     "text": [
      "[INFO] [15:31:53] Metadata folder: /home/magistak/bs-dna-methyl/nbs/project_name\n"
     ]
    }
   ],
   "source": [
    "#| show_doc\n",
    "geo=Geofetcher(just_metadata=True)\n",
    "acc = 'GSE51239'"
   ]
  },
  {
   "cell_type": "code",
   "execution_count": null,
   "metadata": {},
   "outputs": [
    {
     "data": {
      "text/plain": [
       "{'GSE51239_raw': Project\n",
       " 48 samples (showing first 20): hsperm-524-90, hsperm-530-90, hsperm-533-90, hsperm-534-90, h8c-1, h8c-2, hblast-1, hblast-2, hblast-3, hblastsingle-2, hblastsingle-5, hicm-1, hicm-2, hte-1, hte-2, hesp0-e1, hesp0-e4, hesp0-e5, hesp1-e1, hesp1-e4\n",
       " Sections: name, pep_version, sample_table, experiment_metadata, sample_modifiers, description}"
      ]
     },
     "execution_count": null,
     "metadata": {},
     "output_type": "execute_result"
    }
   ],
   "source": [
    "#| show_doc\n",
    "projects = geo.get_projects(acc)\n",
    "projects"
   ]
  },
  {
   "cell_type": "code",
   "execution_count": null,
   "metadata": {},
   "outputs": [],
   "source": [
    "#| hide\n",
    "import nbdev; nbdev.nbdev_export()"
   ]
  }
 ],
 "metadata": {
  "kernelspec": {
   "display_name": "python3",
   "language": "python",
   "name": "python3"
  }
 },
 "nbformat": 4,
 "nbformat_minor": 4
}
