{
 "cells": [
  {
   "cell_type": "markdown",
   "metadata": {},
   "source": [
    "# download_processed\n",
    "\n",
    "> Download processed RRBS data. This is usually in BED format."
   ]
  },
  {
   "cell_type": "markdown",
   "metadata": {},
   "source": [
    "# TODOs\n",
    "- [ ] Add cache to use_get_projects:\n",
    "      maybe something like this:\n",
    "      \n",
    "```python\n",
    "#| export\n",
    "from joblib import Memory\n",
    "      import os\n",
    "\n",
    "      memory = Memory(location=\".cache\", verbose=0)\n",
    "\n",
    "      @memory.cache\n",
    "      def get_projects_cached(acc):\n",
    "          return geo.get_projects(acc)\n",
    "```\n"
   ]
  },
  {
   "cell_type": "code",
   "execution_count": null,
   "metadata": {},
   "outputs": [],
   "source": [
    "#| default_exp download_processed"
   ]
  },
  {
   "cell_type": "code",
   "execution_count": null,
   "metadata": {},
   "outputs": [],
   "source": [
    "#| hide\n",
    "from nbdev.showdoc import *"
   ]
  },
  {
   "cell_type": "markdown",
   "metadata": {},
   "source": [
    "# Import"
   ]
  },
  {
   "cell_type": "code",
   "execution_count": null,
   "metadata": {},
   "outputs": [],
   "source": [
    "from geofetch import Geofetcher"
   ]
  },
  {
   "cell_type": "code",
   "execution_count": null,
   "metadata": {},
   "outputs": [
    {
     "name": "stderr",
     "output_type": "stream",
     "text": [
      "[INFO] [17:38:28] Metadata folder: /home/magistak/bs-dna-methyl/nbs/project_name\n"
     ]
    }
   ],
   "source": [
    "#| export\n",
    "geo=Geofetcher(just_metadata=True)\n",
    "acc = 'GSE51239'"
   ]
  },
  {
   "cell_type": "code",
   "execution_count": null,
   "metadata": {},
   "outputs": [],
   "source": [
    "#| export\n",
    "import time, random\n",
    "def use_get_projects(self, acc, max_attempts=10):\n",
    "    \"Added randomly timed retries to `Geofetcher.get_projects`, so it works.\"\n",
    "    try:\n",
    "        return self.get_projects(acc)\n",
    "    except Exception as e:\n",
    "        if max_attempts <=1:\n",
    "            raise\n",
    "        delay = max(0.1, random.normalvariate(1, 0.5))\n",
    "        time.sleep(delay)\n",
    "        return self.use_get_projects(acc, max_attempts - 1)\n",
    "    \n",
    "Geofetcher.use_get_projects = use_get_projects"
   ]
  },
  {
   "cell_type": "code",
   "execution_count": null,
   "metadata": {},
   "outputs": [
    {
     "name": "stderr",
     "output_type": "stream",
     "text": [
      "[INFO] [17:41:22] Trying GSE51239 (not a file) as accession...\n",
      "[INFO] [17:41:22] Trying GSE51239 (not a file) as accession...\n",
      "[INFO] [17:41:22] Skipped 0 accessions. Starting now.\n",
      "[INFO] [17:41:22] \u001b[38;5;200mProcessing accession 1 of 1: 'GSE51239'\u001b[0m\n",
      "[INFO] [17:41:33] Trying GSE51239 (not a file) as accession...\n",
      "[INFO] [17:41:33] Trying GSE51239 (not a file) as accession...\n",
      "[INFO] [17:41:33] Skipped 0 accessions. Starting now.\n",
      "[INFO] [17:41:33] \u001b[38;5;200mProcessing accession 1 of 1: 'GSE51239'\u001b[0m\n",
      "[INFO] [17:41:43] Trying GSE51239 (not a file) as accession...\n",
      "[INFO] [17:41:43] Trying GSE51239 (not a file) as accession...\n",
      "[INFO] [17:41:43] Skipped 0 accessions. Starting now.\n",
      "[INFO] [17:41:43] \u001b[38;5;200mProcessing accession 1 of 1: 'GSE51239'\u001b[0m\n",
      "[INFO] [17:41:54] Trying GSE51239 (not a file) as accession...\n",
      "[INFO] [17:41:54] Trying GSE51239 (not a file) as accession...\n",
      "[INFO] [17:41:54] Skipped 0 accessions. Starting now.\n",
      "[INFO] [17:41:54] \u001b[38;5;200mProcessing accession 1 of 1: 'GSE51239'\u001b[0m\n",
      "[INFO] [17:42:05] Processed 48 samples.\n",
      "[INFO] [17:42:05] Expanding metadata list...\n",
      "[INFO] [17:42:05] Found SRA Project accession: SRP030612\n",
      "[INFO] [17:42:05] Downloading SRP030612 sra metadata\n",
      "[INFO] [17:42:11] Parsing SRA file to download SRR records\n",
      "[INFO] [17:42:11] Dry run, no data will be downloaded\n",
      "[INFO] [17:42:11] Finished processing 1 accession(s)\n",
      "[INFO] [17:42:11] Cleaning soft files ...\n",
      "[INFO] [17:42:11] Creating complete project annotation sheets and config file...\n"
     ]
    },
    {
     "data": {
      "text/plain": [
       "{'GSE51239_raw': Project\n",
       " 48 samples (showing first 20): hsperm-524-90, hsperm-530-90, hsperm-533-90, hsperm-534-90, h8c-1, h8c-2, hblast-1, hblast-2, hblast-3, hblastsingle-2, hblastsingle-5, hicm-1, hicm-2, hte-1, hte-2, hesp0-e1, hesp0-e4, hesp0-e5, hesp1-e1, hesp1-e4\n",
       " Sections: name, pep_version, sample_table, experiment_metadata, sample_modifiers, description}"
      ]
     },
     "execution_count": null,
     "metadata": {},
     "output_type": "execute_result"
    }
   ],
   "source": [
    "#|eval: false\n",
    "projects = geo.use_get_projects(acc)\n",
    "projects"
   ]
  },
  {
   "cell_type": "code",
   "execution_count": null,
   "metadata": {},
   "outputs": [],
   "source": [
    "#| hide\n",
    "import nbdev; nbdev.nbdev_export()"
   ]
  }
 ],
 "metadata": {
  "kernelspec": {
   "display_name": "python3",
   "language": "python",
   "name": "python3"
  }
 },
 "nbformat": 4,
 "nbformat_minor": 4
}
