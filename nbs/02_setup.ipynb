{
 "cells": [
  {
   "cell_type": "code",
   "execution_count": null,
   "id": "4d2bde2d-c766-47fb-9972-d2bb2a940af4",
   "metadata": {},
   "outputs": [],
   "source": [
    "%load_ext autoreload\n",
    "%autoreload 2"
   ]
  },
  {
   "cell_type": "markdown",
   "id": "4a2b4a32-9ca1-48a7-ba82-db68fe99ceb4",
   "metadata": {},
   "source": [
    "# setup\n",
    "\n",
    "> Setup directories to store data. Download reference genomes, chain files."
   ]
  },
  {
   "cell_type": "code",
   "execution_count": null,
   "id": "0fec12bf-611f-49cb-9bb0-db6b39f22ddd",
   "metadata": {},
   "outputs": [],
   "source": [
    "#| default_exp setup"
   ]
  },
  {
   "cell_type": "code",
   "execution_count": null,
   "id": "7f060242-038f-4f67-9c12-430a6642b65a",
   "metadata": {},
   "outputs": [
    {
     "name": "stderr",
     "output_type": "stream",
     "text": [
      "/home/magyary/anaconda3/envs/kerepesi_2025/lib/python3.12/site-packages/nbdev/doclinks.py:20: UserWarning: pkg_resources is deprecated as an API. See https://setuptools.pypa.io/en/latest/pkg_resources.html. The pkg_resources package is slated for removal as early as 2025-11-30. Refrain from using this package or pin to Setuptools<81.\n",
      "  import pkg_resources,importlib\n"
     ]
    }
   ],
   "source": [
    "#| hide\n",
    "from nbdev.showdoc import *"
   ]
  },
  {
   "cell_type": "markdown",
   "id": "4d175d1f-07d1-41ed-a5e7-ecae1fe4fce1",
   "metadata": {},
   "source": [
    "# Download reference genomes"
   ]
  },
  {
   "cell_type": "code",
   "execution_count": null,
   "id": "cadc6e12-dc31-412f-980a-aba78c8cdceb",
   "metadata": {},
   "outputs": [],
   "source": [
    "#| export\n",
    "\n",
    "from pathlib import Path\n",
    "import os, json\n",
    "import requests\n",
    "from tqdm.auto import tqdm"
   ]
  },
  {
   "cell_type": "code",
   "execution_count": null,
   "id": "562aafa1-30ba-4ced-ad69-1b61d694a5b1",
   "metadata": {},
   "outputs": [
    {
     "data": {
      "text/plain": [
       "Path('/mnt/idms/home/magyary/.bs-cpg')"
      ]
     },
     "execution_count": null,
     "metadata": {},
     "output_type": "execute_result"
    }
   ],
   "source": [
    "#| export \n",
    "CONFIG_FILE = Path.home() / \".bs-cpg-config.json\"\n",
    "SUBDIR_NAME = \".bs-cpg\"\n",
    "\n",
    "def get_base_data_path():\n",
    "    if CONFIG_FILE.exists():\n",
    "        base = Path(json.loads(CONFIG_FILE.read_text())[\"base_path\"]).expanduser()\n",
    "    else:\n",
    "        user_input = input(\"Where should .bs-cpg be stored (e.g. ~ or /mnt/data)? \")\n",
    "        base = Path(user_input).expanduser().resolve()\n",
    "        CONFIG_FILE.write_text(json.dumps({\"base_path\": str(base)}))\n",
    "    \n",
    "    final_path = base / SUBDIR_NAME\n",
    "    final_path.mkdir(parents=True, exist_ok=True)\n",
    "    return final_path\n",
    "get_base_data_path()"
   ]
  },
  {
   "cell_type": "code",
   "execution_count": null,
   "id": "e550bb4b-aaaa-478c-97af-020b97ecab36",
   "metadata": {},
   "outputs": [],
   "source": [
    "#| export \n",
    "def download_file(url: str, filename: str, sub_dir: Path = None):\n",
    "    \"\"\"\n",
    "    A general utility to download a file with a progress bar.\n",
    "\n",
    "    Args:\n",
    "        url (str): The URL of the file to download.\n",
    "        filename (str): The name for the saved file.\n",
    "        sub_dir (Path): The subdirectory where the file will be saved under get_base_data_path().\n",
    "            If empty, it will be saved to get_base_data_path().\n",
    "        \n",
    "    Returns:\n",
    "        Path: The full path to the downloaded file, or None on error.\n",
    "    \"\"\"\n",
    "    # Ensure the destination directory exists\n",
    "    base_dir = get_base_data_path()\n",
    "    dest_dir = base_dir / sub_dir if sub_dir else base_dir\n",
    "    dest_dir.mkdir(parents=True, exist_ok=True)\n",
    "    dest_path = dest_dir / filename\n",
    "\n",
    "    if dest_path.exists():\n",
    "        print(f\"✅ File '{dest_path}' already exists. Skipping.\")\n",
    "        return dest_path\n",
    "\n",
    "    print(f\"⬇️  Downloading '{filename}' from {url}...\")\n",
    "    try:\n",
    "        response = requests.get(url, stream=True, timeout=15)\n",
    "        response.raise_for_status()  # Raise an exception for bad status codes\n",
    "\n",
    "        total_size = int(response.headers.get('content-length', 0))\n",
    "\n",
    "        with open(dest_path, 'wb') as f, tqdm(\n",
    "            desc=filename,\n",
    "            total=total_size,\n",
    "            unit='iB',\n",
    "            unit_scale=True,\n",
    "            unit_divisor=1024,\n",
    "        ) as bar:\n",
    "            for chunk in response.iter_content(chunk_size=8192):\n",
    "                size = f.write(chunk)\n",
    "                bar.update(size)\n",
    "\n",
    "        print(f\"✅ Successfully downloaded to '{dest_path}'\")\n",
    "        return dest_path\n",
    "\n",
    "    except requests.exceptions.RequestException as e:\n",
    "        print(f\"❌ Error downloading file: {e}\")\n",
    "        if dest_path.exists():\n",
    "            dest_path.unlink()  # Clean up partial file\n",
    "        return None"
   ]
  },
  {
   "cell_type": "code",
   "execution_count": null,
   "id": "47b99970-0889-4aa1-8eeb-84f763c2d96c",
   "metadata": {},
   "outputs": [
    {
     "name": "stdout",
     "output_type": "stream",
     "text": [
      "✅ File '/mnt/idms/home/magyary/.bs-cpg/hg38.fa.gz' already exists. Skipping.\n"
     ]
    },
    {
     "data": {
      "text/plain": [
       "Path('/mnt/idms/home/magyary/.bs-cpg/hg38.fa.gz')"
      ]
     },
     "execution_count": null,
     "metadata": {},
     "output_type": "execute_result"
    }
   ],
   "source": [
    "#| export \n",
    "def download_ref_genome(name: str):\n",
    "    \"\"\"\n",
    "    Download a reference genome from UCSC goldenPath bigZips.\n",
    "\n",
    "    Args:\n",
    "        name (str): The reference genome name (e.g., 'hg19', 'hg38', 'mm10').\n",
    "    \n",
    "    Returns:\n",
    "        Path: The path to the downloaded file, or None if an error occurred.\n",
    "    \"\"\"\n",
    "    file_name = f\"{name}.fa.gz\"\n",
    "    url = f\"https://hgdownload.soe.ucsc.edu/goldenPath/{name}/bigZips/{file_name}\"\n",
    "    \n",
    "    return download_file(url=url, filename=file_name)\n",
    "download_ref_genome('hg38')"
   ]
  },
  {
   "cell_type": "code",
   "execution_count": null,
   "id": "a640d34c-adc6-4cbb-9bfe-02b2eeb4ef27",
   "metadata": {},
   "outputs": [
    {
     "data": {
      "text/plain": [
       "'Hg38'"
      ]
     },
     "execution_count": null,
     "metadata": {},
     "output_type": "execute_result"
    }
   ],
   "source": [
    "\"hg38\".capitalize()"
   ]
  },
  {
   "cell_type": "code",
   "execution_count": null,
   "id": "db51e08b-9fe6-4341-a95e-a93e2b7c57ae",
   "metadata": {},
   "outputs": [
    {
     "name": "stdout",
     "output_type": "stream",
     "text": [
      "⬇️  Downloading 'hg19ToHg38.over.chain.gz' from https://hgdownload.soe.ucsc.edu/goldenPath/hg19/liftOver/hg19ToHg38.over.chain.gz...\n"
     ]
    },
    {
     "data": {
      "application/vnd.jupyter.widget-view+json": {
       "model_id": "8f79ebf069d341f699c6e1aa037f88a4",
       "version_major": 2,
       "version_minor": 0
      },
      "text/plain": [
       "hg19ToHg38.over.chain.gz:   0%|          | 0.00/222k [00:00<?, ?iB/s]"
      ]
     },
     "metadata": {},
     "output_type": "display_data"
    },
    {
     "name": "stdout",
     "output_type": "stream",
     "text": [
      "✅ Successfully downloaded to '/mnt/idms/home/magyary/.bs-cpg/hg19ToHg38.over.chain.gz'\n"
     ]
    },
    {
     "data": {
      "text/plain": [
       "Path('/mnt/idms/home/magyary/.bs-cpg/hg19ToHg38.over.chain.gz')"
      ]
     },
     "execution_count": null,
     "metadata": {},
     "output_type": "execute_result"
    }
   ],
   "source": [
    "#| export \n",
    "def download_liftover_chain(genome_from: str, genome_to: str):\n",
    "    \"\"\"\n",
    "    Download liftover chain file between genome versions from UCSC goldenPath liftOver.\n",
    "\n",
    "    Args:\n",
    "        genome_from (str): The original reference genome name (e.g., 'hg19', 'hg38', 'mm10').\n",
    "        genome_to (str): The new reference genome name (e.g., 'hg19', 'hg38', 'mm10').\n",
    "    \n",
    "    Returns:\n",
    "        Path: The path to the downloaded file, or None if an error occurred.\n",
    "    \"\"\"\n",
    "    genome_to_camel=genome_to.capitalize()\n",
    "    file_name = f\"{genome_from}To{genome_to_camel}.over.chain.gz\"\n",
    "    url = f\"https://hgdownload.soe.ucsc.edu/goldenPath/{genome_from}/liftOver/{file_name}\"\n",
    "\n",
    "    return download_file(url=url, filename=file_name)\n",
    "download_liftover_chain(\"hg19\", \"hg38\")"
   ]
  },
  {
   "cell_type": "code",
   "execution_count": null,
   "id": "c9bdb04a-3ec5-4794-bf83-1df3627f8027",
   "metadata": {},
   "outputs": [],
   "source": [
    "    \n"
   ]
  },
  {
   "cell_type": "code",
   "execution_count": null,
   "id": "f3ee9ce0-2d7f-4dc3-85c7-640e47012a05",
   "metadata": {},
   "outputs": [],
   "source": [
    "#| export\n",
    "\n",
    "def func(): pass;"
   ]
  },
  {
   "cell_type": "code",
   "execution_count": null,
   "id": "5aa42dfc-5e66-48b3-92ea-fadeb3289a65",
   "metadata": {},
   "outputs": [],
   "source": [
    "#| hide\n",
    "import nbdev; nbdev.nbdev_export()"
   ]
  }
 ],
 "metadata": {
  "kernelspec": {
   "display_name": "kerepesi_2025",
   "language": "python",
   "name": "kerepesi_2025"
  }
 },
 "nbformat": 4,
 "nbformat_minor": 5
}
