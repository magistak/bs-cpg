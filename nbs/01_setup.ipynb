{
 "cells": [
  {
   "cell_type": "code",
   "execution_count": null,
   "id": "4d2bde2d-c766-47fb-9972-d2bb2a940af4",
   "metadata": {},
   "outputs": [],
   "source": [
    "%load_ext autoreload\n",
    "%autoreload 2"
   ]
  },
  {
   "cell_type": "markdown",
   "id": "4a2b4a32-9ca1-48a7-ba82-db68fe99ceb4",
   "metadata": {},
   "source": [
    "# setup\n",
    "\n",
    "> Setup directories to store data."
   ]
  },
  {
   "cell_type": "code",
   "execution_count": null,
   "id": "0fec12bf-611f-49cb-9bb0-db6b39f22ddd",
   "metadata": {},
   "outputs": [],
   "source": [
    "#| default_exp setup"
   ]
  },
  {
   "cell_type": "code",
   "execution_count": null,
   "id": "7f060242-038f-4f67-9c12-430a6642b65a",
   "metadata": {},
   "outputs": [
    {
     "name": "stderr",
     "output_type": "stream",
     "text": [
      "/home/magyary/anaconda3/envs/kerepesi_2025/lib/python3.12/site-packages/nbdev/doclinks.py:20: UserWarning: pkg_resources is deprecated as an API. See https://setuptools.pypa.io/en/latest/pkg_resources.html. The pkg_resources package is slated for removal as early as 2025-11-30. Refrain from using this package or pin to Setuptools<81.\n",
      "  import pkg_resources,importlib\n"
     ]
    }
   ],
   "source": [
    "#| hide\n",
    "from nbdev.showdoc import *"
   ]
  },
  {
   "cell_type": "markdown",
   "id": "4d175d1f-07d1-41ed-a5e7-ecae1fe4fce1",
   "metadata": {},
   "source": [
    "# Set data directory"
   ]
  },
  {
   "cell_type": "code",
   "execution_count": null,
   "id": "cadc6e12-dc31-412f-980a-aba78c8cdceb",
   "metadata": {},
   "outputs": [],
   "source": [
    "#| export\n",
    "\n",
    "from pathlib import Path\n",
    "import os, json\n",
    "import requests\n",
    "from io import BytesIO\n",
    "import pandas as pd"
   ]
  },
  {
   "cell_type": "code",
   "execution_count": null,
   "id": "562aafa1-30ba-4ced-ad69-1b61d694a5b1",
   "metadata": {},
   "outputs": [],
   "source": [
    "#| export\n",
    "\n",
    "CONFIG_FILE = Path.home() / \".bs-cpg-config.json\"\n",
    "SUBDIR_NAME = \".bs-cpg\"\n",
    "\n",
    "def get_base_data_path():\n",
    "    \"\"\"\n",
    "    Determines the base data path with a clear priority:\n",
    "    1. BS_CPG_DATA environment variable.\n",
    "    2. Path stored in ~/.bs-cpg-config.json.\n",
    "    3. Prompts the user for the path as a last resort.\n",
    "    \"\"\"\n",
    "    # 1. Check for an environment variable (ideal for CI/automation)\n",
    "    path_str = os.getenv('BS_CPG_DATA')\n",
    "    \n",
    "    if path_str:\n",
    "        base = Path(path_str).expanduser().resolve()\n",
    "    # 2. Check for the config file (for returning users)\n",
    "    elif CONFIG_FILE.exists():\n",
    "        base = Path(json.loads(CONFIG_FILE.read_text())[\"base_path\"]).expanduser().resolve()\n",
    "    # 3. Prompt user only if no other configuration is found\n",
    "    else:\n",
    "        user_input = input(\"Enter a base path to store data (e.g., ~/data): \")\n",
    "        base = Path(user_input).expanduser().resolve()\n",
    "        # Save the configuration so we don't have to ask again\n",
    "        CONFIG_FILE.write_text(json.dumps({\"base_path\": str(base)}))\n",
    "    \n",
    "    final_path = base / SUBDIR_NAME\n",
    "    final_path.mkdir(parents=True, exist_ok=True)\n",
    "    return final_path"
   ]
  },
  {
   "cell_type": "code",
   "execution_count": null,
   "id": "f8441a37-b9a5-417e-afa0-7b2b5e1a4f9e",
   "metadata": {},
   "outputs": [
    {
     "data": {
      "text/html": [
       "<div>\n",
       "<style scoped>\n",
       "    .dataframe tbody tr th:only-of-type {\n",
       "        vertical-align: middle;\n",
       "    }\n",
       "\n",
       "    .dataframe tbody tr th {\n",
       "        vertical-align: top;\n",
       "    }\n",
       "\n",
       "    .dataframe thead th {\n",
       "        text-align: right;\n",
       "    }\n",
       "</style>\n",
       "<table border=\"1\" class=\"dataframe\">\n",
       "  <thead>\n",
       "    <tr style=\"text-align: right;\">\n",
       "      <th></th>\n",
       "      <th>chromosome</th>\n",
       "      <th>pos</th>\n",
       "    </tr>\n",
       "  </thead>\n",
       "  <tbody>\n",
       "    <tr>\n",
       "      <th>1594976</th>\n",
       "      <td>chr11</td>\n",
       "      <td>30607691</td>\n",
       "    </tr>\n",
       "    <tr>\n",
       "      <th>41581</th>\n",
       "      <td>chr1</td>\n",
       "      <td>10269003</td>\n",
       "    </tr>\n",
       "    <tr>\n",
       "      <th>2926242</th>\n",
       "      <td>chrX</td>\n",
       "      <td>55066102</td>\n",
       "    </tr>\n",
       "    <tr>\n",
       "      <th>573570</th>\n",
       "      <td>chr3</td>\n",
       "      <td>169781668</td>\n",
       "    </tr>\n",
       "    <tr>\n",
       "      <th>1930113</th>\n",
       "      <td>chr14</td>\n",
       "      <td>59950571</td>\n",
       "    </tr>\n",
       "    <tr>\n",
       "      <th>...</th>\n",
       "      <td>...</td>\n",
       "      <td>...</td>\n",
       "    </tr>\n",
       "    <tr>\n",
       "      <th>2556779</th>\n",
       "      <td>chr19</td>\n",
       "      <td>17438314</td>\n",
       "    </tr>\n",
       "    <tr>\n",
       "      <th>452764</th>\n",
       "      <td>chr2</td>\n",
       "      <td>241331303</td>\n",
       "    </tr>\n",
       "    <tr>\n",
       "      <th>1554781</th>\n",
       "      <td>chr10</td>\n",
       "      <td>135171502</td>\n",
       "    </tr>\n",
       "    <tr>\n",
       "      <th>898587</th>\n",
       "      <td>chr6</td>\n",
       "      <td>31869119</td>\n",
       "    </tr>\n",
       "    <tr>\n",
       "      <th>1764855</th>\n",
       "      <td>chr12</td>\n",
       "      <td>70024545</td>\n",
       "    </tr>\n",
       "  </tbody>\n",
       "</table>\n",
       "<p>1000 rows × 2 columns</p>\n",
       "</div>"
      ],
      "text/plain": [
       "        chromosome        pos\n",
       "1594976      chr11   30607691\n",
       "41581         chr1   10269003\n",
       "2926242       chrX   55066102\n",
       "573570        chr3  169781668\n",
       "1930113      chr14   59950571\n",
       "...            ...        ...\n",
       "2556779      chr19   17438314\n",
       "452764        chr2  241331303\n",
       "1554781      chr10  135171502\n",
       "898587        chr6   31869119\n",
       "1764855      chr12   70024545\n",
       "\n",
       "[1000 rows x 2 columns]"
      ]
     },
     "execution_count": null,
     "metadata": {},
     "output_type": "execute_result"
    }
   ],
   "source": [
    "#| export\n",
    "def read_sample_cpg(columns: list = None, force_download: bool = False):\n",
    "    \"\"\"\n",
    "    Downloads and reads a sample CpG Parquet file.\n",
    "\n",
    "    This function fetches a sample dataset from the project's GitHub repository.\n",
    "    It caches the file locally to avoid re-downloading on subsequent calls.\n",
    "\n",
    "    Args:\n",
    "        columns (list, optional): A list of columns to read from the file. \n",
    "                                  Defaults to None (all columns).\n",
    "        force_download (bool, optional): If True, forces a re-download of the\n",
    "                                         file even if it exists locally. \n",
    "                                         Defaults to False.\n",
    "\n",
    "    Returns:\n",
    "        pd.DataFrame: A DataFrame containing the sample CpG data.\n",
    "    \"\"\"\n",
    "    # Use a permanent link to a specific commit for reproducibility\n",
    "    sample_url = \"https://github.com/magistak/bs-cpg/raw/81f806649a691b766ca658437d857591c2eb6c60/data/sample_cpg_df.parquet\" # Example commit hash\n",
    "    \n",
    "    # Use your existing function to find the local data directory for caching\n",
    "    data_dir = get_base_data_path()\n",
    "    local_file_path = data_dir / \"sample_cpg_df.parquet\"\n",
    "\n",
    "    if not local_file_path.exists() or force_download:\n",
    "        print(f\"Downloading sample data to {local_file_path}...\")\n",
    "        response = requests.get(sample_url)\n",
    "        # Raise an exception for bad status codes (like 404 Not Found)\n",
    "        response.raise_for_status() \n",
    "        local_file_path.write_bytes(response.content)\n",
    "\n",
    "    return pd.read_parquet(local_file_path, columns=columns)\n",
    "df = read_sample_cpg([\"chromosome\", \"pos\"])\n",
    "df"
   ]
  },
  {
   "cell_type": "code",
   "execution_count": null,
   "id": "db51e08b-9fe6-4341-a95e-a93e2b7c57ae",
   "metadata": {},
   "outputs": [
    {
     "data": {
      "text/plain": [
       "Path('/mnt/idms/home/magyary/.bs-cpg')"
      ]
     },
     "execution_count": null,
     "metadata": {},
     "output_type": "execute_result"
    }
   ],
   "source": [
    "#| export\n",
    "\n",
    "get_base_data_path()"
   ]
  },
  {
   "cell_type": "code",
   "execution_count": null,
   "id": "5aa42dfc-5e66-48b3-92ea-fadeb3289a65",
   "metadata": {},
   "outputs": [],
   "source": [
    "#| hide\n",
    "import nbdev; nbdev.nbdev_export()"
   ]
  }
 ],
 "metadata": {
  "kernelspec": {
   "display_name": "kerepesi_2025",
   "language": "python",
   "name": "kerepesi_2025"
  }
 },
 "nbformat": 4,
 "nbformat_minor": 5
}
