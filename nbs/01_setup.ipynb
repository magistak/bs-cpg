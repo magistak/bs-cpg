{
 "cells": [
  {
   "cell_type": "code",
   "execution_count": null,
   "id": "4d2bde2d-c766-47fb-9972-d2bb2a940af4",
   "metadata": {},
   "outputs": [],
   "source": [
    "%load_ext autoreload\n",
    "%autoreload 2"
   ]
  },
  {
   "cell_type": "markdown",
   "id": "4a2b4a32-9ca1-48a7-ba82-db68fe99ceb4",
   "metadata": {},
   "source": [
    "# setup\n",
    "\n",
    "> Setup directories to store data. Download reference genomes, chain files."
   ]
  },
  {
   "cell_type": "code",
   "execution_count": null,
   "id": "0fec12bf-611f-49cb-9bb0-db6b39f22ddd",
   "metadata": {},
   "outputs": [],
   "source": [
    "#| default_exp setup"
   ]
  },
  {
   "cell_type": "code",
   "execution_count": null,
   "id": "7f060242-038f-4f67-9c12-430a6642b65a",
   "metadata": {},
   "outputs": [
    {
     "name": "stderr",
     "output_type": "stream",
     "text": [
      "/home/magyary/anaconda3/envs/kerepesi_2025/lib/python3.12/site-packages/nbdev/doclinks.py:20: UserWarning: pkg_resources is deprecated as an API. See https://setuptools.pypa.io/en/latest/pkg_resources.html. The pkg_resources package is slated for removal as early as 2025-11-30. Refrain from using this package or pin to Setuptools<81.\n",
      "  import pkg_resources,importlib\n"
     ]
    }
   ],
   "source": [
    "#| hide\n",
    "from nbdev.showdoc import *"
   ]
  },
  {
   "cell_type": "markdown",
   "id": "4d175d1f-07d1-41ed-a5e7-ecae1fe4fce1",
   "metadata": {},
   "source": [
    "# Set data directory"
   ]
  },
  {
   "cell_type": "code",
   "execution_count": null,
   "id": "cadc6e12-dc31-412f-980a-aba78c8cdceb",
   "metadata": {},
   "outputs": [],
   "source": [
    "#| export\n",
    "\n",
    "from pathlib import Path\n",
    "import os, json"
   ]
  },
  {
   "cell_type": "code",
   "execution_count": null,
   "id": "562aafa1-30ba-4ced-ad69-1b61d694a5b1",
   "metadata": {},
   "outputs": [],
   "source": [
    "#| export\n",
    "\n",
    "CONFIG_FILE = Path.home() / \".bs-cpg-config.json\"\n",
    "SUBDIR_NAME = \".bs-cpg\"\n",
    "\n",
    "def get_base_data_path():\n",
    "    if CONFIG_FILE.exists():\n",
    "        base = Path(json.loads(CONFIG_FILE.read_text())[\"base_path\"]).expanduser()\n",
    "    else:\n",
    "        user_input = input(\"Where should .bs-cpg be stored (e.g. ~ or /mnt/data)? \")\n",
    "        base = Path(user_input).expanduser().resolve()\n",
    "        CONFIG_FILE.write_text(json.dumps({\"base_path\": str(base)}))\n",
    "    \n",
    "    final_path = base / SUBDIR_NAME\n",
    "    final_path.mkdir(parents=True, exist_ok=True)\n",
    "    return final_path"
   ]
  },
  {
   "cell_type": "code",
   "execution_count": null,
   "id": "db51e08b-9fe6-4341-a95e-a93e2b7c57ae",
   "metadata": {},
   "outputs": [
    {
     "data": {
      "text/plain": [
       "Path('/mnt/idms/home/magyary/.bs-cpg')"
      ]
     },
     "execution_count": null,
     "metadata": {},
     "output_type": "execute_result"
    }
   ],
   "source": [
    "#| export\n",
    "\n",
    "get_base_data_path()"
   ]
  },
  {
   "cell_type": "code",
   "execution_count": null,
   "id": "f3ee9ce0-2d7f-4dc3-85c7-640e47012a05",
   "metadata": {},
   "outputs": [],
   "source": [
    "#| export\n",
    "\n",
    "def func(): pass;"
   ]
  },
  {
   "cell_type": "code",
   "execution_count": null,
   "id": "5aa42dfc-5e66-48b3-92ea-fadeb3289a65",
   "metadata": {},
   "outputs": [],
   "source": [
    "#| hide\n",
    "import nbdev; nbdev.nbdev_export()"
   ]
  }
 ],
 "metadata": {
  "kernelspec": {
   "display_name": "kerepesi_2025",
   "language": "python",
   "name": "kerepesi_2025"
  }
 },
 "nbformat": 4,
 "nbformat_minor": 5
}
