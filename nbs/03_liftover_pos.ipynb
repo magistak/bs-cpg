{
 "cells": [
  {
   "cell_type": "code",
   "execution_count": null,
   "id": "be70f5e7-7f4d-43b2-992a-465a255e53b4",
   "metadata": {},
   "outputs": [
    {
     "name": "stdout",
     "output_type": "stream",
     "text": [
      "The autoreload extension is already loaded. To reload it, use:\n",
      "  %reload_ext autoreload\n"
     ]
    }
   ],
   "source": [
    "%load_ext autoreload\n",
    "%autoreload 2"
   ]
  },
  {
   "cell_type": "markdown",
   "id": "db279dbb-7663-4705-88a5-988658203d2d",
   "metadata": {},
   "source": [
    "# liftover_pos\n",
    "\n",
    "> Liftover between human genomes for cpg positions."
   ]
  },
  {
   "cell_type": "code",
   "execution_count": null,
   "id": "d552fdb4-5040-42e0-bc33-a7b7912f41c5",
   "metadata": {},
   "outputs": [],
   "source": [
    "#| default_exp liftover_ps"
   ]
  },
  {
   "cell_type": "code",
   "execution_count": null,
   "id": "69b7d13d-d7bd-447e-a605-e63afbe17004",
   "metadata": {},
   "outputs": [],
   "source": [
    "#| hide\n",
    "from nbdev.showdoc import *"
   ]
  },
  {
   "cell_type": "markdown",
   "id": "b36bba0b-e8e3-49ec-a4a0-a1e3c2e5ae79",
   "metadata": {},
   "source": [
    "# Import example data"
   ]
  },
  {
   "cell_type": "code",
   "execution_count": null,
   "id": "0f972d3a-89bb-41cb-bd33-07ed36f510f5",
   "metadata": {},
   "outputs": [],
   "source": [
    "# export\n",
    "import pandas as pd"
   ]
  },
  {
   "cell_type": "code",
   "execution_count": null,
   "id": "cb916778-f292-4f0d-868b-3390227dd016",
   "metadata": {},
   "outputs": [
    {
     "name": "stdout",
     "output_type": "stream",
     "text": [
      "CPU times: user 23 μs, sys: 0 ns, total: 23 μs\n",
      "Wall time: 117 μs\n"
     ]
    },
    {
     "data": {
      "text/html": [
       "<div>\n",
       "<style scoped>\n",
       "    .dataframe tbody tr th:only-of-type {\n",
       "        vertical-align: middle;\n",
       "    }\n",
       "\n",
       "    .dataframe tbody tr th {\n",
       "        vertical-align: top;\n",
       "    }\n",
       "\n",
       "    .dataframe thead th {\n",
       "        text-align: right;\n",
       "    }\n",
       "</style>\n",
       "<table border=\"1\" class=\"dataframe\">\n",
       "  <thead>\n",
       "    <tr style=\"text-align: right;\">\n",
       "      <th></th>\n",
       "      <th>chromosome</th>\n",
       "      <th>pos</th>\n",
       "    </tr>\n",
       "  </thead>\n",
       "  <tbody>\n",
       "    <tr>\n",
       "      <th>0</th>\n",
       "      <td>chr1</td>\n",
       "      <td>10496</td>\n",
       "    </tr>\n",
       "    <tr>\n",
       "      <th>1</th>\n",
       "      <td>chr1</td>\n",
       "      <td>10524</td>\n",
       "    </tr>\n",
       "    <tr>\n",
       "      <th>2</th>\n",
       "      <td>chr1</td>\n",
       "      <td>10562</td>\n",
       "    </tr>\n",
       "    <tr>\n",
       "      <th>3</th>\n",
       "      <td>chr1</td>\n",
       "      <td>10570</td>\n",
       "    </tr>\n",
       "    <tr>\n",
       "      <th>4</th>\n",
       "      <td>chr1</td>\n",
       "      <td>10576</td>\n",
       "    </tr>\n",
       "    <tr>\n",
       "      <th>...</th>\n",
       "      <td>...</td>\n",
       "      <td>...</td>\n",
       "    </tr>\n",
       "    <tr>\n",
       "      <th>3433197</th>\n",
       "      <td>chrX</td>\n",
       "      <td>150723722</td>\n",
       "    </tr>\n",
       "    <tr>\n",
       "      <th>3433198</th>\n",
       "      <td>chrX</td>\n",
       "      <td>150723725</td>\n",
       "    </tr>\n",
       "    <tr>\n",
       "      <th>3433199</th>\n",
       "      <td>chrX</td>\n",
       "      <td>150723735</td>\n",
       "    </tr>\n",
       "    <tr>\n",
       "      <th>3433200</th>\n",
       "      <td>chrX</td>\n",
       "      <td>152666323</td>\n",
       "    </tr>\n",
       "    <tr>\n",
       "      <th>3433201</th>\n",
       "      <td>chrX</td>\n",
       "      <td>152666349</td>\n",
       "    </tr>\n",
       "  </tbody>\n",
       "</table>\n",
       "<p>3433202 rows × 2 columns</p>\n",
       "</div>"
      ],
      "text/plain": [
       "        chromosome        pos\n",
       "0             chr1      10496\n",
       "1             chr1      10524\n",
       "2             chr1      10562\n",
       "3             chr1      10570\n",
       "4             chr1      10576\n",
       "...            ...        ...\n",
       "3433197       chrX  150723722\n",
       "3433198       chrX  150723725\n",
       "3433199       chrX  150723735\n",
       "3433200       chrX  152666323\n",
       "3433201       chrX  152666349\n",
       "\n",
       "[3433202 rows x 2 columns]"
      ]
     },
     "execution_count": null,
     "metadata": {},
     "output_type": "execute_result"
    }
   ],
   "source": [
    "%time\n",
    "df=pd.read_parquet(\"/mnt/idms/home/magyary/rrbs_human_embryo/data/smith/processed/cpgs_5_cov.parquet\", columns=[\"chromosome\", \"pos\"])\n",
    "df"
   ]
  },
  {
   "cell_type": "code",
   "execution_count": null,
   "id": "957e2420-7ba8-4dab-a08a-4339ff0ea7e6",
   "metadata": {},
   "outputs": [],
   "source": [
    "import re"
   ]
  },
  {
   "cell_type": "code",
   "execution_count": null,
   "id": "d256c982-1333-4a52-8b7c-ed57db7db441",
   "metadata": {},
   "outputs": [],
   "source": [
    "a=!vdb-config -o n /repository/user/main/public/root"
   ]
  },
  {
   "cell_type": "code",
   "execution_count": null,
   "id": "f6097b49-05b4-4dae-b4cb-8157fae914bc",
   "metadata": {},
   "outputs": [
    {
     "data": {
      "text/plain": [
       "['root = \"/mnt/idms/home/magyary/sra-data\"', '']"
      ]
     },
     "execution_count": null,
     "metadata": {},
     "output_type": "execute_result"
    }
   ],
   "source": [
    "a"
   ]
  },
  {
   "cell_type": "code",
   "execution_count": null,
   "id": "196c6722-0d09-4e66-a8a7-4a3ba1378b67",
   "metadata": {},
   "outputs": [
    {
     "data": {
      "text/plain": [
       "'/mnt/idms/home/magyary/sra-data'"
      ]
     },
     "execution_count": null,
     "metadata": {},
     "output_type": "execute_result"
    }
   ],
   "source": [
    "re.search(r'root = \"(.*?)\"', a[0]).group(1)"
   ]
  },
  {
   "cell_type": "code",
   "execution_count": null,
   "id": "c1438175-f3b9-4d68-bc6f-4f358c13e70f",
   "metadata": {},
   "outputs": [
    {
     "data": {
      "text/plain": [
       "['chr1', 'chr1', 'chr1', 'chr1', 'chr1']"
      ]
     },
     "execution_count": null,
     "metadata": {},
     "output_type": "execute_result"
    }
   ],
   "source": [
    "df[\"chromosome\"].to_list()[:5]"
   ]
  },
  {
   "cell_type": "code",
   "execution_count": null,
   "id": "767d5fcb-635d-4a70-8663-e750ea0dc7bc",
   "metadata": {},
   "outputs": [],
   "source": [
    "def cpg_01(chromosome, position, genome):\n",
    "    position = float(position)"
   ]
  },
  {
   "cell_type": "markdown",
   "id": "35bff6bc-56d6-444d-9256-7c3e5a87c520",
   "metadata": {},
   "source": [
    "Positions are in ```df[[\"chromosome\", \"pos\"]] ``` "
   ]
  },
  {
   "cell_type": "code",
   "execution_count": null,
   "id": "0c140212-1996-4e48-a02b-d2113e2a95d2",
   "metadata": {},
   "outputs": [],
   "source": [
    "#| export\n",
    "\n",
    "def func(): pass;"
   ]
  },
  {
   "cell_type": "code",
   "execution_count": null,
   "id": "f0108fc1-4000-4ff5-a42e-e57aa7e33f78",
   "metadata": {},
   "outputs": [],
   "source": [
    "#| hide\n",
    "import nbdev; nbdev.nbdev_export()"
   ]
  },
  {
   "cell_type": "code",
   "execution_count": null,
   "id": "38de10ce-1009-4fe5-bbd5-116cba3ec273",
   "metadata": {},
   "outputs": [],
   "source": []
  }
 ],
 "metadata": {
  "kernelspec": {
   "display_name": "kerepesi_2025",
   "language": "python",
   "name": "kerepesi_2025"
  }
 },
 "nbformat": 4,
 "nbformat_minor": 5
}
