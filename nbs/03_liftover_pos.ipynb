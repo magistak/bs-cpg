{
 "cells": [
  {
   "cell_type": "code",
   "execution_count": null,
   "id": "be70f5e7-7f4d-43b2-992a-465a255e53b4",
   "metadata": {},
   "outputs": [],
   "source": [
    "%load_ext autoreload\n",
    "%autoreload 2"
   ]
  },
  {
   "cell_type": "markdown",
   "id": "db279dbb-7663-4705-88a5-988658203d2d",
   "metadata": {},
   "source": [
    "# liftover_pos\n",
    "\n",
    "> Liftover between human genomes for cpg positions."
   ]
  },
  {
   "cell_type": "code",
   "execution_count": null,
   "id": "d552fdb4-5040-42e0-bc33-a7b7912f41c5",
   "metadata": {},
   "outputs": [],
   "source": [
    "#| default_exp liftover_ps"
   ]
  },
  {
   "cell_type": "code",
   "execution_count": null,
   "id": "69b7d13d-d7bd-447e-a605-e63afbe17004",
   "metadata": {},
   "outputs": [
    {
     "name": "stderr",
     "output_type": "stream",
     "text": [
      "/home/magyary/anaconda3/envs/kerepesi_2025/lib/python3.12/site-packages/nbdev/doclinks.py:20: UserWarning: pkg_resources is deprecated as an API. See https://setuptools.pypa.io/en/latest/pkg_resources.html. The pkg_resources package is slated for removal as early as 2025-11-30. Refrain from using this package or pin to Setuptools<81.\n",
      "  import pkg_resources,importlib\n"
     ]
    }
   ],
   "source": [
    "#| hide\n",
    "from nbdev.showdoc import *"
   ]
  },
  {
   "cell_type": "markdown",
   "id": "b36bba0b-e8e3-49ec-a4a0-a1e3c2e5ae79",
   "metadata": {},
   "source": [
    "# Import example data"
   ]
  },
  {
   "cell_type": "code",
   "execution_count": null,
   "id": "0f972d3a-89bb-41cb-bd33-07ed36f510f5",
   "metadata": {},
   "outputs": [],
   "source": [
    "# export\n",
    "import pandas as pd\n",
    "import re\n",
    "from bs_cpg.setup import *\n",
    "from bs_cpg.download_ref import *\n",
    "from pathlib import Path\n",
    "import pysam"
   ]
  },
  {
   "cell_type": "code",
   "execution_count": null,
   "id": "6ed4d3ce-7957-4043-96af-249012e8eca2",
   "metadata": {},
   "outputs": [
    {
     "data": {
      "text/html": [
       "<div>\n",
       "<style scoped>\n",
       "    .dataframe tbody tr th:only-of-type {\n",
       "        vertical-align: middle;\n",
       "    }\n",
       "\n",
       "    .dataframe tbody tr th {\n",
       "        vertical-align: top;\n",
       "    }\n",
       "\n",
       "    .dataframe thead th {\n",
       "        text-align: right;\n",
       "    }\n",
       "</style>\n",
       "<table border=\"1\" class=\"dataframe\">\n",
       "  <thead>\n",
       "    <tr style=\"text-align: right;\">\n",
       "      <th></th>\n",
       "      <th>chromosome</th>\n",
       "      <th>pos</th>\n",
       "    </tr>\n",
       "  </thead>\n",
       "  <tbody>\n",
       "    <tr>\n",
       "      <th>1594976</th>\n",
       "      <td>chr11</td>\n",
       "      <td>30607691</td>\n",
       "    </tr>\n",
       "    <tr>\n",
       "      <th>41581</th>\n",
       "      <td>chr1</td>\n",
       "      <td>10269003</td>\n",
       "    </tr>\n",
       "    <tr>\n",
       "      <th>2926242</th>\n",
       "      <td>chrX</td>\n",
       "      <td>55066102</td>\n",
       "    </tr>\n",
       "    <tr>\n",
       "      <th>573570</th>\n",
       "      <td>chr3</td>\n",
       "      <td>169781668</td>\n",
       "    </tr>\n",
       "    <tr>\n",
       "      <th>1930113</th>\n",
       "      <td>chr14</td>\n",
       "      <td>59950571</td>\n",
       "    </tr>\n",
       "    <tr>\n",
       "      <th>...</th>\n",
       "      <td>...</td>\n",
       "      <td>...</td>\n",
       "    </tr>\n",
       "    <tr>\n",
       "      <th>2556779</th>\n",
       "      <td>chr19</td>\n",
       "      <td>17438314</td>\n",
       "    </tr>\n",
       "    <tr>\n",
       "      <th>452764</th>\n",
       "      <td>chr2</td>\n",
       "      <td>241331303</td>\n",
       "    </tr>\n",
       "    <tr>\n",
       "      <th>1554781</th>\n",
       "      <td>chr10</td>\n",
       "      <td>135171502</td>\n",
       "    </tr>\n",
       "    <tr>\n",
       "      <th>898587</th>\n",
       "      <td>chr6</td>\n",
       "      <td>31869119</td>\n",
       "    </tr>\n",
       "    <tr>\n",
       "      <th>1764855</th>\n",
       "      <td>chr12</td>\n",
       "      <td>70024545</td>\n",
       "    </tr>\n",
       "  </tbody>\n",
       "</table>\n",
       "<p>1000 rows × 2 columns</p>\n",
       "</div>"
      ],
      "text/plain": [
       "        chromosome        pos\n",
       "1594976      chr11   30607691\n",
       "41581         chr1   10269003\n",
       "2926242       chrX   55066102\n",
       "573570        chr3  169781668\n",
       "1930113      chr14   59950571\n",
       "...            ...        ...\n",
       "2556779      chr19   17438314\n",
       "452764        chr2  241331303\n",
       "1554781      chr10  135171502\n",
       "898587        chr6   31869119\n",
       "1764855      chr12   70024545\n",
       "\n",
       "[1000 rows x 2 columns]"
      ]
     },
     "execution_count": null,
     "metadata": {},
     "output_type": "execute_result"
    }
   ],
   "source": [
    "df = read_sample_cpg([\"chromosome\", \"pos\"])\n",
    "df"
   ]
  },
  {
   "cell_type": "code",
   "execution_count": null,
   "id": "c1438175-f3b9-4d68-bc6f-4f358c13e70f",
   "metadata": {},
   "outputs": [
    {
     "data": {
      "text/plain": [
       "['chr11', 'chr1', 'chrX', 'chr3', 'chr14']"
      ]
     },
     "execution_count": null,
     "metadata": {},
     "output_type": "execute_result"
    }
   ],
   "source": [
    "df[\"chromosome\"].to_list()[:5]"
   ]
  },
  {
   "cell_type": "code",
   "execution_count": null,
   "id": "584866f6-065b-4b80-ab56-aed8584fa695",
   "metadata": {},
   "outputs": [
    {
     "data": {
      "text/plain": [
       "\u001b[0;31mInit signature:\u001b[0m \u001b[0mpysam\u001b[0m\u001b[0;34m.\u001b[0m\u001b[0mFastaFile\u001b[0m\u001b[0;34m(\u001b[0m\u001b[0mself\u001b[0m\u001b[0;34m,\u001b[0m \u001b[0;34m/\u001b[0m\u001b[0;34m,\u001b[0m \u001b[0;34m*\u001b[0m\u001b[0margs\u001b[0m\u001b[0;34m,\u001b[0m \u001b[0;34m**\u001b[0m\u001b[0mkwargs\u001b[0m\u001b[0;34m)\u001b[0m\u001b[0;34m\u001b[0m\u001b[0;34m\u001b[0m\u001b[0m\n",
       "\u001b[0;31mDocstring:\u001b[0m     \n",
       "Random access to fasta formatted files that\n",
       "have been indexed by :term:`faidx`.\n",
       "\n",
       "The file is automatically opened. The index file of file\n",
       "``<filename>`` is expected to be called ``<filename>.fai``.\n",
       "\n",
       "Parameters\n",
       "----------\n",
       "\n",
       "filename : string\n",
       "    Filename of fasta file to be opened.\n",
       "\n",
       "filepath_index : string\n",
       "    Optional, filename of the index. By default this is\n",
       "    the filename + \".fai\".\n",
       "\n",
       "filepath_index_compressed : string\n",
       "    Optional, filename of the index if fasta file is. By default this is\n",
       "    the filename + \".gzi\".\n",
       "\n",
       "Raises\n",
       "------\n",
       "\n",
       "ValueError\n",
       "    if index file is missing\n",
       "\n",
       "IOError\n",
       "    if file could not be opened\n",
       "\u001b[0;31mFile:\u001b[0m           ~/anaconda3/envs/kerepesi_2025/lib/python3.12/site-packages/pysam/libcfaidx.cpython-312-x86_64-linux-gnu.so\n",
       "\u001b[0;31mType:\u001b[0m           type\n",
       "\u001b[0;31mSubclasses:\u001b[0m     Fastafile"
      ]
     },
     "metadata": {},
     "output_type": "display_data"
    }
   ],
   "source": [
    "?pysam.FastaFile"
   ]
  },
  {
   "cell_type": "code",
   "execution_count": null,
   "id": "33951d77-eedf-4a4c-bdf5-09f17ff8782e",
   "metadata": {},
   "outputs": [],
   "source": [
    "# import pysam\n",
    "# fasta = pysam.FastaFile(\"data/hg38.fa\")\n",
    "# def fetch_seq(row):\n",
    "#     return fasta.fetch(row[\"new_chrom\"], row[\"Start\"], row[\"End\"])"
   ]
  },
  {
   "cell_type": "code",
   "execution_count": null,
   "id": "f86a37e0-bbca-4301-a1c9-25455c697dff",
   "metadata": {},
   "outputs": [
    {
     "name": "stdout",
     "output_type": "stream",
     "text": [
      "✅ Final file '/mnt/idms/home/magyary/.bs-cpg/hg38.fa.bgz' already exists.\n"
     ]
    }
   ],
   "source": [
    "fasta = pysam.FastaFile(str(get_ref_genome(\"hg38\")))"
   ]
  },
  {
   "cell_type": "code",
   "execution_count": null,
   "id": "c8786662-2ef4-46d5-8ff9-847efffa9a07",
   "metadata": {},
   "outputs": [
    {
     "data": {
      "text/plain": [
       "'actaagcacacagagaataatgtctagaatctgagtgccatgttatcaaa'"
      ]
     },
     "execution_count": null,
     "metadata": {},
     "output_type": "execute_result"
    }
   ],
   "source": [
    "fasta.fetch(reference=\"chr1\", start=100000, end=100050)"
   ]
  },
  {
   "cell_type": "code",
   "execution_count": null,
   "id": "767d5fcb-635d-4a70-8663-e750ea0dc7bc",
   "metadata": {},
   "outputs": [],
   "source": [
    "#| export\n",
    "def cpg_content(chromosomes: list, positions, ref_genome: Path, index_base = int):\n",
    "    pass\n",
    "    "
   ]
  },
  {
   "cell_type": "code",
   "execution_count": null,
   "id": "5098e99d-fc7b-4ac1-b188-7c185caa2881",
   "metadata": {},
   "outputs": [],
   "source": [
    "#cpg_content(chromosomes = df[chromosome], positions = df[pos], ref_genome = download_ref_genome(\"hg19\", verbose = False), index_base = 0)"
   ]
  },
  {
   "cell_type": "markdown",
   "id": "35bff6bc-56d6-444d-9256-7c3e5a87c520",
   "metadata": {},
   "source": [
    "Positions are in ```df[[\"chromosome\", \"pos\"]] ``` "
   ]
  },
  {
   "cell_type": "code",
   "execution_count": null,
   "id": "0c140212-1996-4e48-a02b-d2113e2a95d2",
   "metadata": {},
   "outputs": [],
   "source": [
    "#| export\n",
    "\n",
    "def func(): pass;"
   ]
  },
  {
   "cell_type": "code",
   "execution_count": null,
   "id": "f0108fc1-4000-4ff5-a42e-e57aa7e33f78",
   "metadata": {},
   "outputs": [],
   "source": [
    "#| hide\n",
    "import nbdev; nbdev.nbdev_export()"
   ]
  },
  {
   "cell_type": "code",
   "execution_count": null,
   "id": "38de10ce-1009-4fe5-bbd5-116cba3ec273",
   "metadata": {},
   "outputs": [],
   "source": []
  }
 ],
 "metadata": {
  "kernelspec": {
   "display_name": "kerepesi_2025",
   "language": "python",
   "name": "kerepesi_2025"
  }
 },
 "nbformat": 4,
 "nbformat_minor": 5
}
